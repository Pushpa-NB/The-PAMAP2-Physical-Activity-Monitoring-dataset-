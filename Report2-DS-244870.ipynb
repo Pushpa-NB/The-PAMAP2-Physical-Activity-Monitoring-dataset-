{
 "cells": [
  {
   "cell_type": "markdown",
   "id": "712ca43a",
   "metadata": {},
   "source": [
    "# Report 2"
   ]
  },
  {
   "cell_type": "markdown",
   "id": "b97e246d",
   "metadata": {},
   "source": [
    "The PAMAP2 Physical Activity Monitoring dataset contains data from 9 participants who participated in 18 various physical activities (such as walking, cycling, and soccer) while wearing three inertial measurement units and a heart rate monitor. The dataset can be used to identify and estimate activity intensity while creating and deploying data processing, segmentation, feature extraction, and classification algorithms."
   ]
  },
  {
   "cell_type": "markdown",
   "id": "7f92dc7b",
   "metadata": {},
   "source": [
    "The nature of physical activity can be categorized as aerobic activity promoting cardiovascular fitness or strength exercises promoting musculoskeletal fitness. Particularly in frail and elderly population, balanced activity of both types is important, on the one hand, for keeping functional independence, and on the other hand, as a basis for proper rehabilitation after a severe disease. It is then essential to promote the practice of physical activity especially at home, where adherence to exercise is demonstrably greater than when performed in centers, and where phase III rehabilitation takes place.\n",
    "\n",
    "However, this physical activity has to be supervised in order to improve physical fitness whilst minimizing the risk of injury by incorrect execution or overuse. Moreover, this supervision of physical activity has to be achieved whilst providing feedback to the user, since this is required for preserving or increasing motivation and program adherence. The first integrated prototype of the PAMAP system provides this functionality for both categories of physical activity, thus supporting a holistic way of physical activity monitoring.\n",
    "\n"
   ]
  },
  {
   "cell_type": "markdown",
   "id": "c03be685",
   "metadata": {},
   "source": [
    "The goal of this project is to gather insights based on the findings of our analysis in order to establish how active an individual is based on physical activities that will be utilised to design hardware and software.\n",
    "The following are the three requirements for this assignment:\n",
    "\n",
    "Conduct a thorough exploratory data analysis and deal with missing or dirty data properly.\n",
    "\n",
    "Develop and evaluate at least one hypothesis for a single pair of qualities' relationship.\n",
    "\n",
    "Develop and test at least one model that makes predictions based on numerous attributes."
   ]
  },
  {
   "cell_type": "markdown",
   "id": "cd84645d",
   "metadata": {},
   "source": []
  },
  {
   "cell_type": "code",
   "execution_count": 1,
   "id": "cb4d011c",
   "metadata": {},
   "outputs": [],
   "source": [
    "from matplotlib import pyplot as plt\n",
    "%matplotlib inline\n",
    "import pandas as pd\n",
    "import numpy as np\n",
    "import math\n",
    "from sklearn.model_selection import train_test_split"
   ]
  },
  {
   "cell_type": "markdown",
   "id": "a11b6cf1",
   "metadata": {},
   "source": [
    "In this section we will load the data from the data set. To load all of the files and generate the dataframe, a list of file names must be created. Furthermore, in order to understand which activity is being analysed at each phase, a dictionary containing the names as well as numbers of each separate activity must be constructed.\n",
    "In order to have the column names for the dataframe, lists for each individual type of IMUs must also be created. IMUs for the chest, ankle, and hand will be employed.\n",
    "Then all of the separate lists must be combined to make the column collection."
   ]
  },
  {
   "cell_type": "code",
   "execution_count": 2,
   "id": "2c3b922f",
   "metadata": {},
   "outputs": [],
   "source": [
    "list_of_files = ['PAMAP2_Dataset/Protocol/subject101.dat',\n",
    "                 'PAMAP2_Dataset/Protocol/subject102.dat',\n",
    "                'PAMAP2_Dataset/Protocol/subject105.dat',\n",
    "                 'PAMAP2_Dataset/Protocol/subject106.dat',\n",
    "                 'PAMAP2_Dataset/Protocol/subject107.dat',\n",
    "                 'PAMAP2_Dataset/Protocol/subject108.dat',\n",
    "                 'PAMAP2_Dataset/Protocol/subject109.dat' ]\n"
   ]
  },
  {
   "cell_type": "markdown",
   "id": "5529bd11",
   "metadata": {},
   "source": [
    "All of the files are being loaded into the list of files."
   ]
  },
  {
   "cell_type": "code",
   "execution_count": 3,
   "id": "f3d7289a",
   "metadata": {},
   "outputs": [],
   "source": [
    "subjectID = [1,2,3,4,5,6,7,8,9]"
   ]
  },
  {
   "cell_type": "code",
   "execution_count": 4,
   "id": "ffaa7b1e",
   "metadata": {},
   "outputs": [],
   "source": [
    "activityIDdict = {0: 'transient',\n",
    "              1: 'lying',\n",
    "              2: 'sitting',\n",
    "              3: 'standing',\n",
    "              4: 'walking',\n",
    "              5: 'running',\n",
    "              6: 'cycling',\n",
    "              7: 'Nordic_walking',\n",
    "              9: 'watching_TV',\n",
    "              10: 'computer_work',\n",
    "              11: 'car driving',\n",
    "              12: 'ascending_stairs',\n",
    "              13: 'descending_stairs',\n",
    "              16: 'vacuum_cleaning',\n",
    "              17: 'ironing',\n",
    "              18: 'folding_laundry',\n",
    "              19: 'house_cleaning',\n",
    "              20: 'playing_soccer',\n",
    "              24: 'rope_jumping' }"
   ]
  },
  {
   "cell_type": "code",
   "execution_count": 5,
   "id": "40be3ad1",
   "metadata": {},
   "outputs": [],
   "source": [
    "colNames = [\"timestamp\", \"activityID\",\"heartrate\"]\n",
    "\n",
    "IMUhand = ['handTemperature', \n",
    "           'handAcc16_1', 'handAcc16_2', 'handAcc16_3', \n",
    "           'handAcc6_1', 'handAcc6_2', 'handAcc6_3', \n",
    "           'handGyro1', 'handGyro2', 'handGyro3', \n",
    "           'handMagne1', 'handMagne2', 'handMagne3',\n",
    "           'handOrientation1', 'handOrientation2', 'handOrientation3', 'handOrientation4']\n",
    "\n",
    "IMUchest = ['chestTemperature', \n",
    "           'chestAcc16_1', 'chestAcc16_2', 'chestAcc16_3', \n",
    "           'chestAcc6_1', 'chestAcc6_2', 'chestAcc6_3', \n",
    "           'chestGyro1', 'chestGyro2', 'chestGyro3', \n",
    "           'chestMagne1', 'chestMagne2', 'chestMagne3',\n",
    "           'chestOrientation1', 'chestOrientation2', 'chestOrientation3', 'chestOrientation4']\n",
    "\n",
    "IMUankle = ['ankleTemperature', \n",
    "           'ankleAcc16_1', 'ankleAcc16_2', 'ankleAcc16_3', \n",
    "           'ankleAcc6_1', 'ankleAcc6_2', 'ankleAcc6_3', \n",
    "           'ankleGyro1', 'ankleGyro2', 'ankleGyro3', \n",
    "           'ankleMagne1', 'ankleMagne2', 'ankleMagne3',\n",
    "           'ankleOrientation1', 'ankleOrientation2', 'ankleOrientation3', 'ankleOrientation4']\n"
   ]
  },
  {
   "cell_type": "code",
   "execution_count": 6,
   "id": "798ee194",
   "metadata": {},
   "outputs": [],
   "source": [
    "columns = colNames + IMUhand + IMUchest + IMUankle  #all columns in one list"
   ]
  },
  {
   "cell_type": "code",
   "execution_count": 7,
   "id": "5b09a65d",
   "metadata": {},
   "outputs": [
    {
     "data": {
      "text/plain": [
       "54"
      ]
     },
     "execution_count": 7,
     "metadata": {},
     "output_type": "execute_result"
    }
   ],
   "source": [
    "len(columns)"
   ]
  },
  {
   "cell_type": "code",
   "execution_count": 8,
   "id": "f85786da",
   "metadata": {},
   "outputs": [
    {
     "data": {
      "text/html": [
       "<div>\n",
       "<style scoped>\n",
       "    .dataframe tbody tr th:only-of-type {\n",
       "        vertical-align: middle;\n",
       "    }\n",
       "\n",
       "    .dataframe tbody tr th {\n",
       "        vertical-align: top;\n",
       "    }\n",
       "\n",
       "    .dataframe thead th {\n",
       "        text-align: right;\n",
       "    }\n",
       "</style>\n",
       "<table border=\"1\" class=\"dataframe\">\n",
       "  <thead>\n",
       "    <tr style=\"text-align: right;\">\n",
       "      <th></th>\n",
       "      <th>timestamp</th>\n",
       "      <th>activityID</th>\n",
       "      <th>heartrate</th>\n",
       "      <th>handTemperature</th>\n",
       "      <th>handAcc16_1</th>\n",
       "      <th>handAcc16_2</th>\n",
       "      <th>handAcc16_3</th>\n",
       "      <th>handAcc6_1</th>\n",
       "      <th>handAcc6_2</th>\n",
       "      <th>handAcc6_3</th>\n",
       "      <th>...</th>\n",
       "      <th>ankleGyro2</th>\n",
       "      <th>ankleGyro3</th>\n",
       "      <th>ankleMagne1</th>\n",
       "      <th>ankleMagne2</th>\n",
       "      <th>ankleMagne3</th>\n",
       "      <th>ankleOrientation1</th>\n",
       "      <th>ankleOrientation2</th>\n",
       "      <th>ankleOrientation3</th>\n",
       "      <th>ankleOrientation4</th>\n",
       "      <th>subject_id</th>\n",
       "    </tr>\n",
       "  </thead>\n",
       "  <tbody>\n",
       "    <tr>\n",
       "      <th>0</th>\n",
       "      <td>8.38</td>\n",
       "      <td>0</td>\n",
       "      <td>104.0</td>\n",
       "      <td>30.0000</td>\n",
       "      <td>2.37223</td>\n",
       "      <td>8.60074</td>\n",
       "      <td>3.51048</td>\n",
       "      <td>2.43954</td>\n",
       "      <td>8.76165</td>\n",
       "      <td>3.35465</td>\n",
       "      <td>...</td>\n",
       "      <td>0.009250</td>\n",
       "      <td>-0.017580</td>\n",
       "      <td>-61.1888</td>\n",
       "      <td>-38.95990</td>\n",
       "      <td>-58.143800</td>\n",
       "      <td>1.000000</td>\n",
       "      <td>0.000000</td>\n",
       "      <td>0.000000</td>\n",
       "      <td>0.000000</td>\n",
       "      <td>1</td>\n",
       "    </tr>\n",
       "    <tr>\n",
       "      <th>1</th>\n",
       "      <td>8.39</td>\n",
       "      <td>0</td>\n",
       "      <td>NaN</td>\n",
       "      <td>30.0000</td>\n",
       "      <td>2.18837</td>\n",
       "      <td>8.56560</td>\n",
       "      <td>3.66179</td>\n",
       "      <td>2.39494</td>\n",
       "      <td>8.55081</td>\n",
       "      <td>3.64207</td>\n",
       "      <td>...</td>\n",
       "      <td>-0.004638</td>\n",
       "      <td>0.000368</td>\n",
       "      <td>-59.8479</td>\n",
       "      <td>-38.89190</td>\n",
       "      <td>-58.525300</td>\n",
       "      <td>1.000000</td>\n",
       "      <td>0.000000</td>\n",
       "      <td>0.000000</td>\n",
       "      <td>0.000000</td>\n",
       "      <td>1</td>\n",
       "    </tr>\n",
       "    <tr>\n",
       "      <th>2</th>\n",
       "      <td>8.40</td>\n",
       "      <td>0</td>\n",
       "      <td>NaN</td>\n",
       "      <td>30.0000</td>\n",
       "      <td>2.37357</td>\n",
       "      <td>8.60107</td>\n",
       "      <td>3.54898</td>\n",
       "      <td>2.30514</td>\n",
       "      <td>8.53644</td>\n",
       "      <td>3.73280</td>\n",
       "      <td>...</td>\n",
       "      <td>0.000148</td>\n",
       "      <td>0.022495</td>\n",
       "      <td>-60.7361</td>\n",
       "      <td>-39.41380</td>\n",
       "      <td>-58.399900</td>\n",
       "      <td>1.000000</td>\n",
       "      <td>0.000000</td>\n",
       "      <td>0.000000</td>\n",
       "      <td>0.000000</td>\n",
       "      <td>1</td>\n",
       "    </tr>\n",
       "    <tr>\n",
       "      <th>3</th>\n",
       "      <td>8.41</td>\n",
       "      <td>0</td>\n",
       "      <td>NaN</td>\n",
       "      <td>30.0000</td>\n",
       "      <td>2.07473</td>\n",
       "      <td>8.52853</td>\n",
       "      <td>3.66021</td>\n",
       "      <td>2.33528</td>\n",
       "      <td>8.53622</td>\n",
       "      <td>3.73277</td>\n",
       "      <td>...</td>\n",
       "      <td>-0.020301</td>\n",
       "      <td>0.011275</td>\n",
       "      <td>-60.4091</td>\n",
       "      <td>-38.76350</td>\n",
       "      <td>-58.395600</td>\n",
       "      <td>1.000000</td>\n",
       "      <td>0.000000</td>\n",
       "      <td>0.000000</td>\n",
       "      <td>0.000000</td>\n",
       "      <td>1</td>\n",
       "    </tr>\n",
       "    <tr>\n",
       "      <th>4</th>\n",
       "      <td>8.42</td>\n",
       "      <td>0</td>\n",
       "      <td>NaN</td>\n",
       "      <td>30.0000</td>\n",
       "      <td>2.22936</td>\n",
       "      <td>8.83122</td>\n",
       "      <td>3.70000</td>\n",
       "      <td>2.23055</td>\n",
       "      <td>8.59741</td>\n",
       "      <td>3.76295</td>\n",
       "      <td>...</td>\n",
       "      <td>-0.014303</td>\n",
       "      <td>-0.002823</td>\n",
       "      <td>-61.5199</td>\n",
       "      <td>-39.38790</td>\n",
       "      <td>-58.269400</td>\n",
       "      <td>1.000000</td>\n",
       "      <td>0.000000</td>\n",
       "      <td>0.000000</td>\n",
       "      <td>0.000000</td>\n",
       "      <td>1</td>\n",
       "    </tr>\n",
       "    <tr>\n",
       "      <th>...</th>\n",
       "      <td>...</td>\n",
       "      <td>...</td>\n",
       "      <td>...</td>\n",
       "      <td>...</td>\n",
       "      <td>...</td>\n",
       "      <td>...</td>\n",
       "      <td>...</td>\n",
       "      <td>...</td>\n",
       "      <td>...</td>\n",
       "      <td>...</td>\n",
       "      <td>...</td>\n",
       "      <td>...</td>\n",
       "      <td>...</td>\n",
       "      <td>...</td>\n",
       "      <td>...</td>\n",
       "      <td>...</td>\n",
       "      <td>...</td>\n",
       "      <td>...</td>\n",
       "      <td>...</td>\n",
       "      <td>...</td>\n",
       "      <td>...</td>\n",
       "    </tr>\n",
       "    <tr>\n",
       "      <th>2290119</th>\n",
       "      <td>100.19</td>\n",
       "      <td>0</td>\n",
       "      <td>NaN</td>\n",
       "      <td>25.1875</td>\n",
       "      <td>-4.71493</td>\n",
       "      <td>10.22250</td>\n",
       "      <td>4.66893</td>\n",
       "      <td>-5.04654</td>\n",
       "      <td>9.94944</td>\n",
       "      <td>4.50736</td>\n",
       "      <td>...</td>\n",
       "      <td>-0.062676</td>\n",
       "      <td>-0.127084</td>\n",
       "      <td>-46.5153</td>\n",
       "      <td>3.58240</td>\n",
       "      <td>-0.035995</td>\n",
       "      <td>0.598531</td>\n",
       "      <td>0.033615</td>\n",
       "      <td>0.799791</td>\n",
       "      <td>-0.031075</td>\n",
       "      <td>9</td>\n",
       "    </tr>\n",
       "    <tr>\n",
       "      <th>2290120</th>\n",
       "      <td>100.20</td>\n",
       "      <td>0</td>\n",
       "      <td>NaN</td>\n",
       "      <td>25.1875</td>\n",
       "      <td>-4.95932</td>\n",
       "      <td>10.37130</td>\n",
       "      <td>4.12594</td>\n",
       "      <td>-4.96890</td>\n",
       "      <td>10.29620</td>\n",
       "      <td>4.43102</td>\n",
       "      <td>...</td>\n",
       "      <td>-0.027006</td>\n",
       "      <td>-0.089808</td>\n",
       "      <td>-45.7474</td>\n",
       "      <td>3.54453</td>\n",
       "      <td>0.108583</td>\n",
       "      <td>0.598428</td>\n",
       "      <td>0.033012</td>\n",
       "      <td>0.799933</td>\n",
       "      <td>-0.030018</td>\n",
       "      <td>9</td>\n",
       "    </tr>\n",
       "    <tr>\n",
       "      <th>2290121</th>\n",
       "      <td>100.21</td>\n",
       "      <td>0</td>\n",
       "      <td>NaN</td>\n",
       "      <td>25.1875</td>\n",
       "      <td>-4.93997</td>\n",
       "      <td>9.83615</td>\n",
       "      <td>3.70468</td>\n",
       "      <td>-5.04613</td>\n",
       "      <td>10.35690</td>\n",
       "      <td>4.14405</td>\n",
       "      <td>...</td>\n",
       "      <td>-0.038024</td>\n",
       "      <td>-0.064709</td>\n",
       "      <td>-46.3997</td>\n",
       "      <td>4.22078</td>\n",
       "      <td>0.105504</td>\n",
       "      <td>0.598233</td>\n",
       "      <td>0.033172</td>\n",
       "      <td>0.800095</td>\n",
       "      <td>-0.029416</td>\n",
       "      <td>9</td>\n",
       "    </tr>\n",
       "    <tr>\n",
       "      <th>2290122</th>\n",
       "      <td>100.22</td>\n",
       "      <td>0</td>\n",
       "      <td>NaN</td>\n",
       "      <td>25.1875</td>\n",
       "      <td>-4.64941</td>\n",
       "      <td>9.11129</td>\n",
       "      <td>3.51904</td>\n",
       "      <td>-5.06854</td>\n",
       "      <td>9.75268</td>\n",
       "      <td>3.87359</td>\n",
       "      <td>...</td>\n",
       "      <td>-0.025796</td>\n",
       "      <td>-0.064357</td>\n",
       "      <td>-46.5282</td>\n",
       "      <td>4.48593</td>\n",
       "      <td>0.530240</td>\n",
       "      <td>0.598116</td>\n",
       "      <td>0.033427</td>\n",
       "      <td>0.800180</td>\n",
       "      <td>-0.029208</td>\n",
       "      <td>9</td>\n",
       "    </tr>\n",
       "    <tr>\n",
       "      <th>2290123</th>\n",
       "      <td>100.23</td>\n",
       "      <td>0</td>\n",
       "      <td>161.0</td>\n",
       "      <td>25.1875</td>\n",
       "      <td>-4.09726</td>\n",
       "      <td>8.15642</td>\n",
       "      <td>3.29961</td>\n",
       "      <td>-4.73244</td>\n",
       "      <td>8.82870</td>\n",
       "      <td>3.54305</td>\n",
       "      <td>...</td>\n",
       "      <td>0.011866</td>\n",
       "      <td>-0.042858</td>\n",
       "      <td>-46.2704</td>\n",
       "      <td>4.21475</td>\n",
       "      <td>0.247798</td>\n",
       "      <td>0.598119</td>\n",
       "      <td>0.033685</td>\n",
       "      <td>0.800188</td>\n",
       "      <td>-0.028602</td>\n",
       "      <td>9</td>\n",
       "    </tr>\n",
       "  </tbody>\n",
       "</table>\n",
       "<p>2290124 rows × 55 columns</p>\n",
       "</div>"
      ],
      "text/plain": [
       "         timestamp  activityID  heartrate  handTemperature  handAcc16_1  \\\n",
       "0             8.38           0      104.0          30.0000      2.37223   \n",
       "1             8.39           0        NaN          30.0000      2.18837   \n",
       "2             8.40           0        NaN          30.0000      2.37357   \n",
       "3             8.41           0        NaN          30.0000      2.07473   \n",
       "4             8.42           0        NaN          30.0000      2.22936   \n",
       "...            ...         ...        ...              ...          ...   \n",
       "2290119     100.19           0        NaN          25.1875     -4.71493   \n",
       "2290120     100.20           0        NaN          25.1875     -4.95932   \n",
       "2290121     100.21           0        NaN          25.1875     -4.93997   \n",
       "2290122     100.22           0        NaN          25.1875     -4.64941   \n",
       "2290123     100.23           0      161.0          25.1875     -4.09726   \n",
       "\n",
       "         handAcc16_2  handAcc16_3  handAcc6_1  handAcc6_2  handAcc6_3  ...  \\\n",
       "0            8.60074      3.51048     2.43954     8.76165     3.35465  ...   \n",
       "1            8.56560      3.66179     2.39494     8.55081     3.64207  ...   \n",
       "2            8.60107      3.54898     2.30514     8.53644     3.73280  ...   \n",
       "3            8.52853      3.66021     2.33528     8.53622     3.73277  ...   \n",
       "4            8.83122      3.70000     2.23055     8.59741     3.76295  ...   \n",
       "...              ...          ...         ...         ...         ...  ...   \n",
       "2290119     10.22250      4.66893    -5.04654     9.94944     4.50736  ...   \n",
       "2290120     10.37130      4.12594    -4.96890    10.29620     4.43102  ...   \n",
       "2290121      9.83615      3.70468    -5.04613    10.35690     4.14405  ...   \n",
       "2290122      9.11129      3.51904    -5.06854     9.75268     3.87359  ...   \n",
       "2290123      8.15642      3.29961    -4.73244     8.82870     3.54305  ...   \n",
       "\n",
       "         ankleGyro2  ankleGyro3  ankleMagne1  ankleMagne2  ankleMagne3  \\\n",
       "0          0.009250   -0.017580     -61.1888    -38.95990   -58.143800   \n",
       "1         -0.004638    0.000368     -59.8479    -38.89190   -58.525300   \n",
       "2          0.000148    0.022495     -60.7361    -39.41380   -58.399900   \n",
       "3         -0.020301    0.011275     -60.4091    -38.76350   -58.395600   \n",
       "4         -0.014303   -0.002823     -61.5199    -39.38790   -58.269400   \n",
       "...             ...         ...          ...          ...          ...   \n",
       "2290119   -0.062676   -0.127084     -46.5153      3.58240    -0.035995   \n",
       "2290120   -0.027006   -0.089808     -45.7474      3.54453     0.108583   \n",
       "2290121   -0.038024   -0.064709     -46.3997      4.22078     0.105504   \n",
       "2290122   -0.025796   -0.064357     -46.5282      4.48593     0.530240   \n",
       "2290123    0.011866   -0.042858     -46.2704      4.21475     0.247798   \n",
       "\n",
       "         ankleOrientation1  ankleOrientation2  ankleOrientation3  \\\n",
       "0                 1.000000           0.000000           0.000000   \n",
       "1                 1.000000           0.000000           0.000000   \n",
       "2                 1.000000           0.000000           0.000000   \n",
       "3                 1.000000           0.000000           0.000000   \n",
       "4                 1.000000           0.000000           0.000000   \n",
       "...                    ...                ...                ...   \n",
       "2290119           0.598531           0.033615           0.799791   \n",
       "2290120           0.598428           0.033012           0.799933   \n",
       "2290121           0.598233           0.033172           0.800095   \n",
       "2290122           0.598116           0.033427           0.800180   \n",
       "2290123           0.598119           0.033685           0.800188   \n",
       "\n",
       "         ankleOrientation4  subject_id  \n",
       "0                 0.000000           1  \n",
       "1                 0.000000           1  \n",
       "2                 0.000000           1  \n",
       "3                 0.000000           1  \n",
       "4                 0.000000           1  \n",
       "...                    ...         ...  \n",
       "2290119          -0.031075           9  \n",
       "2290120          -0.030018           9  \n",
       "2290121          -0.029416           9  \n",
       "2290122          -0.029208           9  \n",
       "2290123          -0.028602           9  \n",
       "\n",
       "[2290124 rows x 55 columns]"
      ]
     },
     "execution_count": 8,
     "metadata": {},
     "output_type": "execute_result"
    }
   ],
   "source": [
    "dataCollection = pd.DataFrame()\n",
    "for file in list_of_files:\n",
    "    procData = pd.read_table(file, header=None, sep='\\s+')\n",
    "    procData.columns = columns\n",
    "    procData['subject_id'] = int(file[-5])\n",
    "    dataCollection = dataCollection.append(procData, ignore_index=True)\n",
    "\n",
    "dataCollection.reset_index(drop=True, inplace=True)\n",
    "data = dataCollection\n",
    "data"
   ]
  },
  {
   "cell_type": "markdown",
   "id": "0807e925",
   "metadata": {},
   "source": [
    "As you can see from the sample of the dataframe we created, some data cleaning is necessary. For example, activityID 0 must be fully eliminated from our dataset because this is a temporary period during which the subject was not engaged in any specific activity, as described in the readme file that was provided. In the following section, we'll go over data cleaning in detail.Every NaN value in the column will be replaced with the column's mean value.\n"
   ]
  },
  {
   "cell_type": "code",
   "execution_count": 9,
   "id": "208f8552",
   "metadata": {},
   "outputs": [],
   "source": [
    "data = data.drop(data[data['activityID']==0].index)\n",
    "data = data.interpolate()"
   ]
  },
  {
   "cell_type": "markdown",
   "id": "81586fd0",
   "metadata": {},
   "source": [
    "According to the PerformedActivitiesSummary file, which is part of the collection of files provided, various data is missing, and as the readme file states, there were some wireless disconnections in data collection, so the missing data must be accounted for and made up in such a way that our data analysis will not be harmed. More specifically, each activity had 8 or fewer subjects participate in it, and each activity had NaN values for multiple subjects. As a result, some data filling has been done. In order to deal with the NaN values in our data, we should utilise interpolate, which creates a new data point from a group of known data points.\n",
    "    As a general guideline for the code below, interpolation occurs after removing 'activity 0' because it contains very noisy and would-be data that would have a significant impact on the output because the values given in heart rate would not be produced from the data point set that contains activities that actually matter."
   ]
  },
  {
   "cell_type": "code",
   "execution_count": 10,
   "id": "96178890",
   "metadata": {},
   "outputs": [],
   "source": [
    "for colName in data.columns:\n",
    "    data[colName] = data[colName].fillna(data[colName].mean())\n",
    "    activity_mean = data.groupby(['activityID']).mean().reset_index()"
   ]
  },
  {
   "cell_type": "code",
   "execution_count": 11,
   "id": "c43282e7",
   "metadata": {},
   "outputs": [
    {
     "data": {
      "text/plain": [
       "timestamp            0\n",
       "activityID           0\n",
       "heartrate            0\n",
       "handTemperature      0\n",
       "handAcc16_1          0\n",
       "handAcc16_2          0\n",
       "handAcc16_3          0\n",
       "handAcc6_1           0\n",
       "handAcc6_2           0\n",
       "handAcc6_3           0\n",
       "handGyro1            0\n",
       "handGyro2            0\n",
       "handGyro3            0\n",
       "handMagne1           0\n",
       "handMagne2           0\n",
       "handMagne3           0\n",
       "handOrientation1     0\n",
       "handOrientation2     0\n",
       "handOrientation3     0\n",
       "handOrientation4     0\n",
       "chestTemperature     0\n",
       "chestAcc16_1         0\n",
       "chestAcc16_2         0\n",
       "chestAcc16_3         0\n",
       "chestAcc6_1          0\n",
       "chestAcc6_2          0\n",
       "chestAcc6_3          0\n",
       "chestGyro1           0\n",
       "chestGyro2           0\n",
       "chestGyro3           0\n",
       "chestMagne1          0\n",
       "chestMagne2          0\n",
       "chestMagne3          0\n",
       "chestOrientation1    0\n",
       "chestOrientation2    0\n",
       "chestOrientation3    0\n",
       "chestOrientation4    0\n",
       "ankleTemperature     0\n",
       "ankleAcc16_1         0\n",
       "ankleAcc16_2         0\n",
       "ankleAcc16_3         0\n",
       "ankleAcc6_1          0\n",
       "ankleAcc6_2          0\n",
       "ankleAcc6_3          0\n",
       "ankleGyro1           0\n",
       "ankleGyro2           0\n",
       "ankleGyro3           0\n",
       "ankleMagne1          0\n",
       "ankleMagne2          0\n",
       "ankleMagne3          0\n",
       "ankleOrientation1    0\n",
       "ankleOrientation2    0\n",
       "ankleOrientation3    0\n",
       "ankleOrientation4    0\n",
       "subject_id           0\n",
       "dtype: int64"
      ]
     },
     "execution_count": 11,
     "metadata": {},
     "output_type": "execute_result"
    }
   ],
   "source": [
    "data.isnull().sum()"
   ]
  },
  {
   "cell_type": "markdown",
   "id": "2d094922",
   "metadata": {},
   "source": [
    "The interpolation calculates the values around the nan cell, which is why HR still contains nan values. It's natural to generate new nan values after interpolation because the first cells are nan. To solve this problem, we can assume that the first four cells have a value of 100 because the values after the index 4 are all 100."
   ]
  },
  {
   "cell_type": "code",
   "execution_count": 12,
   "id": "e868a3d0",
   "metadata": {},
   "outputs": [
    {
     "data": {
      "text/html": [
       "<div>\n",
       "<style scoped>\n",
       "    .dataframe tbody tr th:only-of-type {\n",
       "        vertical-align: middle;\n",
       "    }\n",
       "\n",
       "    .dataframe tbody tr th {\n",
       "        vertical-align: top;\n",
       "    }\n",
       "\n",
       "    .dataframe thead th {\n",
       "        text-align: right;\n",
       "    }\n",
       "</style>\n",
       "<table border=\"1\" class=\"dataframe\">\n",
       "  <thead>\n",
       "    <tr style=\"text-align: right;\">\n",
       "      <th></th>\n",
       "      <th>timestamp</th>\n",
       "      <th>activityID</th>\n",
       "      <th>heartrate</th>\n",
       "      <th>handTemperature</th>\n",
       "      <th>handAcc16_1</th>\n",
       "      <th>handAcc16_2</th>\n",
       "      <th>handAcc16_3</th>\n",
       "      <th>handAcc6_1</th>\n",
       "      <th>handAcc6_2</th>\n",
       "      <th>handAcc6_3</th>\n",
       "      <th>...</th>\n",
       "      <th>ankleGyro2</th>\n",
       "      <th>ankleGyro3</th>\n",
       "      <th>ankleMagne1</th>\n",
       "      <th>ankleMagne2</th>\n",
       "      <th>ankleMagne3</th>\n",
       "      <th>ankleOrientation1</th>\n",
       "      <th>ankleOrientation2</th>\n",
       "      <th>ankleOrientation3</th>\n",
       "      <th>ankleOrientation4</th>\n",
       "      <th>subject_id</th>\n",
       "    </tr>\n",
       "  </thead>\n",
       "  <tbody>\n",
       "    <tr>\n",
       "      <th>count</th>\n",
       "      <td>1.537113e+06</td>\n",
       "      <td>1.537113e+06</td>\n",
       "      <td>1.537113e+06</td>\n",
       "      <td>1.537113e+06</td>\n",
       "      <td>1.537113e+06</td>\n",
       "      <td>1.537113e+06</td>\n",
       "      <td>1.537113e+06</td>\n",
       "      <td>1.537113e+06</td>\n",
       "      <td>1.537113e+06</td>\n",
       "      <td>1.537113e+06</td>\n",
       "      <td>...</td>\n",
       "      <td>1.537113e+06</td>\n",
       "      <td>1.537113e+06</td>\n",
       "      <td>1.537113e+06</td>\n",
       "      <td>1.537113e+06</td>\n",
       "      <td>1.537113e+06</td>\n",
       "      <td>1.537113e+06</td>\n",
       "      <td>1.537113e+06</td>\n",
       "      <td>1.537113e+06</td>\n",
       "      <td>1.537113e+06</td>\n",
       "      <td>1.537113e+06</td>\n",
       "    </tr>\n",
       "    <tr>\n",
       "      <th>mean</th>\n",
       "      <td>1.781060e+03</td>\n",
       "      <td>8.186963e+00</td>\n",
       "      <td>1.085994e+02</td>\n",
       "      <td>3.297722e+01</td>\n",
       "      <td>-4.845036e+00</td>\n",
       "      <td>3.525261e+00</td>\n",
       "      <td>3.497067e+00</td>\n",
       "      <td>-4.771644e+00</td>\n",
       "      <td>3.505999e+00</td>\n",
       "      <td>3.693539e+00</td>\n",
       "      <td>...</td>\n",
       "      <td>-3.432199e-02</td>\n",
       "      <td>3.462948e-03</td>\n",
       "      <td>-3.292821e+01</td>\n",
       "      <td>1.766320e+00</td>\n",
       "      <td>1.741788e+01</td>\n",
       "      <td>4.114858e-01</td>\n",
       "      <td>1.434574e-02</td>\n",
       "      <td>3.047490e-01</td>\n",
       "      <td>-3.138040e-02</td>\n",
       "      <td>4.829318e+00</td>\n",
       "    </tr>\n",
       "    <tr>\n",
       "      <th>std</th>\n",
       "      <td>1.134044e+03</td>\n",
       "      <td>6.227070e+00</td>\n",
       "      <td>2.797089e+01</td>\n",
       "      <td>1.796674e+00</td>\n",
       "      <td>6.373175e+00</td>\n",
       "      <td>7.530770e+00</td>\n",
       "      <td>4.071473e+00</td>\n",
       "      <td>6.370362e+00</td>\n",
       "      <td>7.178758e+00</td>\n",
       "      <td>4.054674e+00</td>\n",
       "      <td>...</td>\n",
       "      <td>6.808238e-01</td>\n",
       "      <td>2.097988e+00</td>\n",
       "      <td>1.863316e+01</td>\n",
       "      <td>2.256700e+01</td>\n",
       "      <td>2.015354e+01</td>\n",
       "      <td>3.184688e-01</td>\n",
       "      <td>5.612054e-01</td>\n",
       "      <td>3.366696e-01</td>\n",
       "      <td>4.548191e-01</td>\n",
       "      <td>2.546423e+00</td>\n",
       "    </tr>\n",
       "    <tr>\n",
       "      <th>min</th>\n",
       "      <td>3.120000e+01</td>\n",
       "      <td>1.000000e+00</td>\n",
       "      <td>6.000000e+01</td>\n",
       "      <td>2.487500e+01</td>\n",
       "      <td>-1.453670e+02</td>\n",
       "      <td>-1.043010e+02</td>\n",
       "      <td>-1.014520e+02</td>\n",
       "      <td>-6.121470e+01</td>\n",
       "      <td>-6.184170e+01</td>\n",
       "      <td>-6.193470e+01</td>\n",
       "      <td>...</td>\n",
       "      <td>-1.812690e+01</td>\n",
       "      <td>-1.401960e+01</td>\n",
       "      <td>-1.728650e+02</td>\n",
       "      <td>-1.379080e+02</td>\n",
       "      <td>-1.027160e+02</td>\n",
       "      <td>1.521280e-06</td>\n",
       "      <td>-9.568760e-01</td>\n",
       "      <td>-8.768380e-01</td>\n",
       "      <td>-9.972810e-01</td>\n",
       "      <td>1.000000e+00</td>\n",
       "    </tr>\n",
       "    <tr>\n",
       "      <th>25%</th>\n",
       "      <td>7.588100e+02</td>\n",
       "      <td>3.000000e+00</td>\n",
       "      <td>8.700000e+01</td>\n",
       "      <td>3.187500e+01</td>\n",
       "      <td>-8.892030e+00</td>\n",
       "      <td>7.906300e-01</td>\n",
       "      <td>9.953660e-01</td>\n",
       "      <td>-8.777300e+00</td>\n",
       "      <td>7.966750e-01</td>\n",
       "      <td>1.199930e+00</td>\n",
       "      <td>...</td>\n",
       "      <td>-1.046070e-01</td>\n",
       "      <td>-5.007460e-01</td>\n",
       "      <td>-4.249820e+01</td>\n",
       "      <td>-1.348970e+01</td>\n",
       "      <td>3.502280e+00</td>\n",
       "      <td>1.573300e-01</td>\n",
       "      <td>-5.530400e-01</td>\n",
       "      <td>0.000000e+00</td>\n",
       "      <td>-4.954040e-01</td>\n",
       "      <td>2.000000e+00</td>\n",
       "    </tr>\n",
       "    <tr>\n",
       "      <th>50%</th>\n",
       "      <td>1.627700e+03</td>\n",
       "      <td>6.000000e+00</td>\n",
       "      <td>1.040000e+02</td>\n",
       "      <td>3.356250e+01</td>\n",
       "      <td>-5.239850e+00</td>\n",
       "      <td>3.548050e+00</td>\n",
       "      <td>3.326030e+00</td>\n",
       "      <td>-5.142250e+00</td>\n",
       "      <td>3.584900e+00</td>\n",
       "      <td>3.559310e+00</td>\n",
       "      <td>...</td>\n",
       "      <td>-2.082700e-03</td>\n",
       "      <td>-2.225350e-03</td>\n",
       "      <td>-3.493810e+01</td>\n",
       "      <td>1.968840e+00</td>\n",
       "      <td>1.811090e+01</td>\n",
       "      <td>3.224850e-01</td>\n",
       "      <td>0.000000e+00</td>\n",
       "      <td>3.055630e-01</td>\n",
       "      <td>0.000000e+00</td>\n",
       "      <td>5.000000e+00</td>\n",
       "    </tr>\n",
       "    <tr>\n",
       "      <th>75%</th>\n",
       "      <td>2.818170e+03</td>\n",
       "      <td>1.300000e+01</td>\n",
       "      <td>1.250000e+02</td>\n",
       "      <td>3.425000e+01</td>\n",
       "      <td>-5.913350e-01</td>\n",
       "      <td>6.599720e+00</td>\n",
       "      <td>6.480290e+00</td>\n",
       "      <td>-4.892330e-01</td>\n",
       "      <td>6.594330e+00</td>\n",
       "      <td>6.745270e+00</td>\n",
       "      <td>...</td>\n",
       "      <td>1.567150e-01</td>\n",
       "      <td>1.204610e-01</td>\n",
       "      <td>-1.871990e+01</td>\n",
       "      <td>1.928230e+01</td>\n",
       "      <td>3.248150e+01</td>\n",
       "      <td>5.909250e-01</td>\n",
       "      <td>6.144540e-01</td>\n",
       "      <td>5.933510e-01</td>\n",
       "      <td>4.316260e-01</td>\n",
       "      <td>7.000000e+00</td>\n",
       "    </tr>\n",
       "    <tr>\n",
       "      <th>max</th>\n",
       "      <td>4.245680e+03</td>\n",
       "      <td>2.400000e+01</td>\n",
       "      <td>2.020000e+02</td>\n",
       "      <td>3.550000e+01</td>\n",
       "      <td>6.285960e+01</td>\n",
       "      <td>1.556990e+02</td>\n",
       "      <td>1.577600e+02</td>\n",
       "      <td>5.282140e+01</td>\n",
       "      <td>6.225980e+01</td>\n",
       "      <td>6.192340e+01</td>\n",
       "      <td>...</td>\n",
       "      <td>1.358820e+01</td>\n",
       "      <td>1.652880e+01</td>\n",
       "      <td>9.155160e+01</td>\n",
       "      <td>9.424780e+01</td>\n",
       "      <td>1.469000e+02</td>\n",
       "      <td>1.000000e+00</td>\n",
       "      <td>9.595380e-01</td>\n",
       "      <td>9.499800e-01</td>\n",
       "      <td>9.961050e-01</td>\n",
       "      <td>9.000000e+00</td>\n",
       "    </tr>\n",
       "  </tbody>\n",
       "</table>\n",
       "<p>8 rows × 55 columns</p>\n",
       "</div>"
      ],
      "text/plain": [
       "          timestamp    activityID     heartrate  handTemperature  \\\n",
       "count  1.537113e+06  1.537113e+06  1.537113e+06     1.537113e+06   \n",
       "mean   1.781060e+03  8.186963e+00  1.085994e+02     3.297722e+01   \n",
       "std    1.134044e+03  6.227070e+00  2.797089e+01     1.796674e+00   \n",
       "min    3.120000e+01  1.000000e+00  6.000000e+01     2.487500e+01   \n",
       "25%    7.588100e+02  3.000000e+00  8.700000e+01     3.187500e+01   \n",
       "50%    1.627700e+03  6.000000e+00  1.040000e+02     3.356250e+01   \n",
       "75%    2.818170e+03  1.300000e+01  1.250000e+02     3.425000e+01   \n",
       "max    4.245680e+03  2.400000e+01  2.020000e+02     3.550000e+01   \n",
       "\n",
       "        handAcc16_1   handAcc16_2   handAcc16_3    handAcc6_1    handAcc6_2  \\\n",
       "count  1.537113e+06  1.537113e+06  1.537113e+06  1.537113e+06  1.537113e+06   \n",
       "mean  -4.845036e+00  3.525261e+00  3.497067e+00 -4.771644e+00  3.505999e+00   \n",
       "std    6.373175e+00  7.530770e+00  4.071473e+00  6.370362e+00  7.178758e+00   \n",
       "min   -1.453670e+02 -1.043010e+02 -1.014520e+02 -6.121470e+01 -6.184170e+01   \n",
       "25%   -8.892030e+00  7.906300e-01  9.953660e-01 -8.777300e+00  7.966750e-01   \n",
       "50%   -5.239850e+00  3.548050e+00  3.326030e+00 -5.142250e+00  3.584900e+00   \n",
       "75%   -5.913350e-01  6.599720e+00  6.480290e+00 -4.892330e-01  6.594330e+00   \n",
       "max    6.285960e+01  1.556990e+02  1.577600e+02  5.282140e+01  6.225980e+01   \n",
       "\n",
       "         handAcc6_3  ...    ankleGyro2    ankleGyro3   ankleMagne1  \\\n",
       "count  1.537113e+06  ...  1.537113e+06  1.537113e+06  1.537113e+06   \n",
       "mean   3.693539e+00  ... -3.432199e-02  3.462948e-03 -3.292821e+01   \n",
       "std    4.054674e+00  ...  6.808238e-01  2.097988e+00  1.863316e+01   \n",
       "min   -6.193470e+01  ... -1.812690e+01 -1.401960e+01 -1.728650e+02   \n",
       "25%    1.199930e+00  ... -1.046070e-01 -5.007460e-01 -4.249820e+01   \n",
       "50%    3.559310e+00  ... -2.082700e-03 -2.225350e-03 -3.493810e+01   \n",
       "75%    6.745270e+00  ...  1.567150e-01  1.204610e-01 -1.871990e+01   \n",
       "max    6.192340e+01  ...  1.358820e+01  1.652880e+01  9.155160e+01   \n",
       "\n",
       "        ankleMagne2   ankleMagne3  ankleOrientation1  ankleOrientation2  \\\n",
       "count  1.537113e+06  1.537113e+06       1.537113e+06       1.537113e+06   \n",
       "mean   1.766320e+00  1.741788e+01       4.114858e-01       1.434574e-02   \n",
       "std    2.256700e+01  2.015354e+01       3.184688e-01       5.612054e-01   \n",
       "min   -1.379080e+02 -1.027160e+02       1.521280e-06      -9.568760e-01   \n",
       "25%   -1.348970e+01  3.502280e+00       1.573300e-01      -5.530400e-01   \n",
       "50%    1.968840e+00  1.811090e+01       3.224850e-01       0.000000e+00   \n",
       "75%    1.928230e+01  3.248150e+01       5.909250e-01       6.144540e-01   \n",
       "max    9.424780e+01  1.469000e+02       1.000000e+00       9.595380e-01   \n",
       "\n",
       "       ankleOrientation3  ankleOrientation4    subject_id  \n",
       "count       1.537113e+06       1.537113e+06  1.537113e+06  \n",
       "mean        3.047490e-01      -3.138040e-02  4.829318e+00  \n",
       "std         3.366696e-01       4.548191e-01  2.546423e+00  \n",
       "min        -8.768380e-01      -9.972810e-01  1.000000e+00  \n",
       "25%         0.000000e+00      -4.954040e-01  2.000000e+00  \n",
       "50%         3.055630e-01       0.000000e+00  5.000000e+00  \n",
       "75%         5.933510e-01       4.316260e-01  7.000000e+00  \n",
       "max         9.499800e-01       9.961050e-01  9.000000e+00  \n",
       "\n",
       "[8 rows x 55 columns]"
      ]
     },
     "execution_count": 12,
     "metadata": {},
     "output_type": "execute_result"
    }
   ],
   "source": [
    "data.describe()"
   ]
  },
  {
   "cell_type": "markdown",
   "id": "f336f488",
   "metadata": {},
   "source": [
    "The describe() method is used for calculating some statistical data like percentile, mean and std of the numerical values of the Series or DataFrame. It analyzes both numeric and object series and also the DataFrame column sets of mixed data types."
   ]
  },
  {
   "cell_type": "code",
   "execution_count": 13,
   "id": "22b49691",
   "metadata": {},
   "outputs": [],
   "source": [
    "# data['activityID'].value_counts().plot(kind = \"bar\",figsize = (12,6))\n",
    "# plt.show()"
   ]
  },
  {
   "cell_type": "markdown",
   "id": "2cb4f954",
   "metadata": {},
   "source": [
    "### Exploratory Data Analysis"
   ]
  },
  {
   "cell_type": "markdown",
   "id": "9b31e81e",
   "metadata": {},
   "source": [
    "Data is split into two sets: train and test.\n",
    "It is best to examine if the classes are balanced before separating our data, as this would indicate that stratification is not required for our split. If the weights of the classes are imbalanced, we should stratify the data while splitting it. Stratified sampling is the process of collecting samples from all classes and dividing them into sub-sets for training and testing. When the distribution of the weights of the classes is not normal, it aids in obtaining better outcomes. A normal distribution would imply that the weights of each class are similar to the weights of all other classes."
   ]
  },
  {
   "cell_type": "markdown",
   "id": "c0840631",
   "metadata": {},
   "source": [
    "#### Analysis of the Balance"
   ]
  },
  {
   "cell_type": "code",
   "execution_count": 14,
   "id": "71f9eb9d",
   "metadata": {},
   "outputs": [
    {
     "name": "stderr",
     "output_type": "stream",
     "text": [
      "<ipython-input-14-1924e851b64a>:10: UserWarning: FixedFormatter should only be used together with FixedLocator\n",
      "  a = ax.set_xticklabels(sampels_to_subject['subject_id'])\n",
      "No handles with labels found to put in legend.\n"
     ]
    },
    {
     "data": {
      "image/png": "[encoded data removed]",
      "text/plain": [
       "<Figure size 720x432 with 1 Axes>"
      ]
     },
     "metadata": {
      "needs_background": "light"
     },
     "output_type": "display_data"
    }
   ],
   "source": [
    "sampels = data.groupby(['subject_id']).count().reset_index()\n",
    "sampels_to_subject = pd.DataFrame()\n",
    "sampels_to_subject['subject_id'] = sampels['subject_id']\n",
    "sampels_to_subject['sampels'] = sampels['timestamp']\n",
    "sampels_to_subject = sampels_to_subject.sort_values(by=['sampels'])\n",
    "plt.rcParams.update({'font.size': 16})\n",
    "size = range(len(sampels_to_subject))\n",
    "f, ax = plt.subplots(figsize=(10,6)) \n",
    "plt.bar(size, sampels_to_subject['sampels'], color=plt.cm.Paired(size))\n",
    "a = ax.set_xticklabels(sampels_to_subject['subject_id'])\n",
    "b = ax.legend(fontsize = 20)\n",
    "c = ax.set_xticks(np.arange(len(sampels_to_subject)))\n",
    "d = ax.set_title('Number Of Samepls By Users')"
   ]
  },
  {
   "cell_type": "markdown",
   "id": "6f18275c",
   "metadata": {},
   "source": [
    "In comparison to other samples, Subject Id 9 contains very few samples, as shown in the graph above."
   ]
  },
  {
   "cell_type": "code",
   "execution_count": 15,
   "id": "67f745ea",
   "metadata": {},
   "outputs": [
    {
     "name": "stderr",
     "output_type": "stream",
     "text": [
      "<ipython-input-15-cf3e8d012af6>:10: UserWarning: FixedFormatter should only be used together with FixedLocator\n",
      "  a = ax.set_xticklabels(sampels_to_subject['activity'])\n",
      "No handles with labels found to put in legend.\n"
     ]
    },
    {
     "data": {
      "image/png": "[encoded data removed]",
      "text/plain": [
       "<Figure size 2880x504 with 1 Axes>"
      ]
     },
     "metadata": {
      "needs_background": "light"
     },
     "output_type": "display_data"
    }
   ],
   "source": [
    "sampels = data.groupby(['activityID']).count().reset_index()\n",
    "sampels_to_subject = pd.DataFrame()\n",
    "sampels_to_subject['activity'] = [activityIDdict[x] for x in sampels['activityID']]\n",
    "sampels_to_subject['sampels'] = sampels['timestamp']\n",
    "sampels_to_subject = sampels_to_subject.sort_values(by=['sampels'])\n",
    "plt.rcParams.update({'font.size': 16})\n",
    "size = range(len(sampels_to_subject))\n",
    "f, ax = plt.subplots(figsize=(40,7)) \n",
    "plt.bar(size, sampels_to_subject['sampels'], color=plt.cm.Paired(size))\n",
    "a = ax.set_xticklabels(sampels_to_subject['activity'])\n",
    "b = ax.legend(fontsize = 20)\n",
    "c = ax.set_xticks(np.arange(len(sampels_to_subject)))\n",
    "d = ax.set_title('Number Of Samepls By Activity')\n",
    "plt.show()"
   ]
  },
  {
   "cell_type": "markdown",
   "id": "97b0e54c",
   "metadata": {},
   "source": [
    "The data isn't balanced, as we can see:\n",
    "\n",
    "Subject 9 has fewer samples than the rest of the subjects, and the rope jumping activity has less samples than the rest of the activities."
   ]
  },
  {
   "cell_type": "code",
   "execution_count": 16,
   "id": "b4e52660",
   "metadata": {},
   "outputs": [
    {
     "data": {
      "text/html": [
       "<div>\n",
       "<style scoped>\n",
       "    .dataframe tbody tr th:only-of-type {\n",
       "        vertical-align: middle;\n",
       "    }\n",
       "\n",
       "    .dataframe tbody tr th {\n",
       "        vertical-align: top;\n",
       "    }\n",
       "\n",
       "    .dataframe thead th {\n",
       "        text-align: right;\n",
       "    }\n",
       "</style>\n",
       "<table border=\"1\" class=\"dataframe\">\n",
       "  <thead>\n",
       "    <tr style=\"text-align: right;\">\n",
       "      <th></th>\n",
       "      <th>activity</th>\n",
       "      <th>sampels</th>\n",
       "    </tr>\n",
       "  </thead>\n",
       "  <tbody>\n",
       "    <tr>\n",
       "      <th>11</th>\n",
       "      <td>rope_jumping</td>\n",
       "      <td>49360</td>\n",
       "    </tr>\n",
       "    <tr>\n",
       "      <th>8</th>\n",
       "      <td>descending_stairs</td>\n",
       "      <td>75384</td>\n",
       "    </tr>\n",
       "    <tr>\n",
       "      <th>7</th>\n",
       "      <td>ascending_stairs</td>\n",
       "      <td>90133</td>\n",
       "    </tr>\n",
       "    <tr>\n",
       "      <th>4</th>\n",
       "      <td>running</td>\n",
       "      <td>98198</td>\n",
       "    </tr>\n",
       "    <tr>\n",
       "      <th>1</th>\n",
       "      <td>sitting</td>\n",
       "      <td>130935</td>\n",
       "    </tr>\n",
       "    <tr>\n",
       "      <th>9</th>\n",
       "      <td>vacuum_cleaning</td>\n",
       "      <td>134991</td>\n",
       "    </tr>\n",
       "    <tr>\n",
       "      <th>5</th>\n",
       "      <td>cycling</td>\n",
       "      <td>141901</td>\n",
       "    </tr>\n",
       "    <tr>\n",
       "      <th>2</th>\n",
       "      <td>standing</td>\n",
       "      <td>144692</td>\n",
       "    </tr>\n",
       "    <tr>\n",
       "      <th>0</th>\n",
       "      <td>lying</td>\n",
       "      <td>147432</td>\n",
       "    </tr>\n",
       "    <tr>\n",
       "      <th>6</th>\n",
       "      <td>Nordic_walking</td>\n",
       "      <td>160574</td>\n",
       "    </tr>\n",
       "    <tr>\n",
       "      <th>3</th>\n",
       "      <td>walking</td>\n",
       "      <td>177793</td>\n",
       "    </tr>\n",
       "    <tr>\n",
       "      <th>10</th>\n",
       "      <td>ironing</td>\n",
       "      <td>185720</td>\n",
       "    </tr>\n",
       "  </tbody>\n",
       "</table>\n",
       "</div>"
      ],
      "text/plain": [
       "             activity  sampels\n",
       "11       rope_jumping    49360\n",
       "8   descending_stairs    75384\n",
       "7    ascending_stairs    90133\n",
       "4             running    98198\n",
       "1             sitting   130935\n",
       "9     vacuum_cleaning   134991\n",
       "5             cycling   141901\n",
       "2            standing   144692\n",
       "0               lying   147432\n",
       "6      Nordic_walking   160574\n",
       "3             walking   177793\n",
       "10            ironing   185720"
      ]
     },
     "execution_count": 16,
     "metadata": {},
     "output_type": "execute_result"
    }
   ],
   "source": [
    "sampels_to_subject"
   ]
  },
  {
   "cell_type": "markdown",
   "id": "e2d3b469",
   "metadata": {},
   "source": [
    "#### Heart Rate Anlysis"
   ]
  },
  {
   "cell_type": "code",
   "execution_count": 17,
   "id": "e222faca",
   "metadata": {},
   "outputs": [
    {
     "name": "stderr",
     "output_type": "stream",
     "text": [
      "<ipython-input-17-7b691306d2b8>:11: UserWarning: FixedFormatter should only be used together with FixedLocator\n",
      "  a = ax.set_xticklabels(sampels_heart_rate['subject_id'])\n",
      "No handles with labels found to put in legend.\n"
     ]
    },
    {
     "data": {
      "image/png": "[encoded data removed]",
      "text/plain": [
       "<Figure size 2880x504 with 1 Axes>"
      ]
     },
     "metadata": {
      "needs_background": "light"
     },
     "output_type": "display_data"
    }
   ],
   "source": [
    "result_id = data.groupby(['subject_id']).mean().reset_index()\n",
    "result_act = data.groupby(['activityID']).mean().reset_index()\n",
    "sampels_heart_rate = pd.DataFrame()\n",
    "sampels_heart_rate['subject_id'] = result_id['subject_id']\n",
    "sampels_heart_rate['heartrate'] = result_id['heartrate']\n",
    "sampels_heart_rate = sampels_heart_rate.sort_values(by=['heartrate'])\n",
    "plt.rcParams.update({'font.size': 16})\n",
    "size = range(len(sampels_heart_rate))\n",
    "f, ax = plt.subplots(figsize=(40,7)) \n",
    "plt.bar(size, sampels_heart_rate['heartrate'], color=plt.cm.Paired(size))\n",
    "a = ax.set_xticklabels(sampels_heart_rate['subject_id'])\n",
    "b = ax.legend(fontsize = 20)\n",
    "c = ax.set_xticks(np.arange(len(sampels_heart_rate)))\n",
    "d = ax.set_title('Avg heart Rate by Subject')\n",
    "plt.show()"
   ]
  },
  {
   "cell_type": "code",
   "execution_count": 18,
   "id": "80145e5b",
   "metadata": {},
   "outputs": [
    {
     "data": {
      "text/html": [
       "<div>\n",
       "<style scoped>\n",
       "    .dataframe tbody tr th:only-of-type {\n",
       "        vertical-align: middle;\n",
       "    }\n",
       "\n",
       "    .dataframe tbody tr th {\n",
       "        vertical-align: top;\n",
       "    }\n",
       "\n",
       "    .dataframe thead th {\n",
       "        text-align: right;\n",
       "    }\n",
       "</style>\n",
       "<table border=\"1\" class=\"dataframe\">\n",
       "  <thead>\n",
       "    <tr style=\"text-align: right;\">\n",
       "      <th></th>\n",
       "      <th>subject_id</th>\n",
       "      <th>heartrate</th>\n",
       "    </tr>\n",
       "  </thead>\n",
       "  <tbody>\n",
       "    <tr>\n",
       "      <th>4</th>\n",
       "      <td>7</td>\n",
       "      <td>96.390682</td>\n",
       "    </tr>\n",
       "    <tr>\n",
       "      <th>3</th>\n",
       "      <td>6</td>\n",
       "      <td>103.001006</td>\n",
       "    </tr>\n",
       "    <tr>\n",
       "      <th>2</th>\n",
       "      <td>5</td>\n",
       "      <td>108.527291</td>\n",
       "    </tr>\n",
       "    <tr>\n",
       "      <th>1</th>\n",
       "      <td>2</td>\n",
       "      <td>109.492735</td>\n",
       "    </tr>\n",
       "    <tr>\n",
       "      <th>5</th>\n",
       "      <td>8</td>\n",
       "      <td>110.026446</td>\n",
       "    </tr>\n",
       "    <tr>\n",
       "      <th>0</th>\n",
       "      <td>1</td>\n",
       "      <td>122.190433</td>\n",
       "    </tr>\n",
       "    <tr>\n",
       "      <th>6</th>\n",
       "      <td>9</td>\n",
       "      <td>148.525960</td>\n",
       "    </tr>\n",
       "  </tbody>\n",
       "</table>\n",
       "</div>"
      ],
      "text/plain": [
       "   subject_id   heartrate\n",
       "4           7   96.390682\n",
       "3           6  103.001006\n",
       "2           5  108.527291\n",
       "1           2  109.492735\n",
       "5           8  110.026446\n",
       "0           1  122.190433\n",
       "6           9  148.525960"
      ]
     },
     "execution_count": 18,
     "metadata": {},
     "output_type": "execute_result"
    }
   ],
   "source": [
    "sampels_heart_rate"
   ]
  },
  {
   "cell_type": "markdown",
   "id": "db82e096",
   "metadata": {},
   "source": [
    "According to heart rate study, subject id 9 has the highest heart rate of all the subjects."
   ]
  },
  {
   "cell_type": "code",
   "execution_count": 19,
   "id": "fc556ff0",
   "metadata": {},
   "outputs": [
    {
     "name": "stderr",
     "output_type": "stream",
     "text": [
      "<ipython-input-19-13b353a09b66>:9: UserWarning: FixedFormatter should only be used together with FixedLocator\n",
      "  a = ax.set_xticklabels(sampels_heart_rate['activity'])\n",
      "No handles with labels found to put in legend.\n"
     ]
    },
    {
     "data": {
      "image/png": "[encoded data removed]",
      "text/plain": [
       "<Figure size 2880x504 with 1 Axes>"
      ]
     },
     "metadata": {
      "needs_background": "light"
     },
     "output_type": "display_data"
    }
   ],
   "source": [
    "sampels_heart_rate = pd.DataFrame()\n",
    "sampels_heart_rate['activity'] = [activityIDdict[x] for x in result_act['activityID']]\n",
    "sampels_heart_rate['heartrate'] = result_act['heartrate']\n",
    "sampels_heart_rate = sampels_heart_rate.sort_values(by=['heartrate'])\n",
    "plt.rcParams.update({'font.size': 16})\n",
    "size = range(len(sampels_heart_rate))\n",
    "f, ax = plt.subplots(figsize=(40,7)) \n",
    "plt.bar(size, sampels_heart_rate['heartrate'], color=plt.cm.Paired(size))\n",
    "a = ax.set_xticklabels(sampels_heart_rate['activity'])\n",
    "b = ax.legend(fontsize = 20)\n",
    "c = ax.set_xticks(np.arange(len(sampels_heart_rate)))\n",
    "d = ax.set_title('Avg heart Rate by Activity')\n",
    "plt.show()"
   ]
  },
  {
   "cell_type": "markdown",
   "id": "68c04327",
   "metadata": {},
   "source": [
    "The highest heart rate is subject 9, and the lowest heart rate is activity lying."
   ]
  },
  {
   "cell_type": "markdown",
   "id": "d5b95703",
   "metadata": {},
   "source": [
    "#### Tempature Analysis:"
   ]
  },
  {
   "cell_type": "code",
   "execution_count": 20,
   "id": "d277062d",
   "metadata": {},
   "outputs": [
    {
     "name": "stderr",
     "output_type": "stream",
     "text": [
      "<ipython-input-20-e946056f7bd5>:7: UserWarning: FixedFormatter should only be used together with FixedLocator\n",
      "  a = ax.set_xticklabels(result_id['subject_id'])\n"
     ]
    },
    {
     "data": {
      "image/png": "[encoded data removed]",
      "text/plain": [
       "<Figure size 1440x432 with 1 Axes>"
      ]
     },
     "metadata": {
      "needs_background": "light"
     },
     "output_type": "display_data"
    }
   ],
   "source": [
    "samepls_tempreture = pd.DataFrame()\n",
    "samepls_tempreture['hand'] = result_id['handTemperature']\n",
    "samepls_tempreture['chest'] = result_id['chestTemperature']\n",
    "samepls_tempreture['ankle'] = result_id['ankleTemperature']\n",
    "\n",
    "ax = samepls_tempreture.plot(kind='line', figsize=(20,6), title='Avg Tempatures by Subjects')\n",
    "a = ax.set_xticklabels(result_id['subject_id'])\n",
    "b = ax.legend(fontsize = 20)\n",
    "c = ax.set_xticks(np.arange(len(samepls_tempreture)))\n"
   ]
  },
  {
   "cell_type": "markdown",
   "id": "52580b3e",
   "metadata": {},
   "source": [
    "Subject 9's temperature is dropping in all samples from the hand, chest, and ankle, as well as in subject ID 6's hand and 7's ankle."
   ]
  },
  {
   "cell_type": "code",
   "execution_count": 21,
   "id": "132b44e8",
   "metadata": {},
   "outputs": [
    {
     "name": "stderr",
     "output_type": "stream",
     "text": [
      "<ipython-input-21-510a5f7f69ac>:8: UserWarning: FixedFormatter should only be used together with FixedLocator\n",
      "  a = ax.set_xticklabels(samepls_tempreture['activity'])\n"
     ]
    },
    {
     "data": {
      "image/png": "[encoded data removed]",
      "text/plain": [
       "<Figure size 2880x432 with 1 Axes>"
      ]
     },
     "metadata": {
      "needs_background": "light"
     },
     "output_type": "display_data"
    }
   ],
   "source": [
    "samepls_tempreture = pd.DataFrame()\n",
    "samepls_tempreture['activity'] = [activityIDdict[x] for x in result_act['activityID']]\n",
    "samepls_tempreture['hand'] = result_act['handTemperature']\n",
    "samepls_tempreture['chest'] = result_act['chestTemperature']\n",
    "samepls_tempreture['ankle'] = result_act['ankleTemperature']\n",
    "\n",
    "ax = samepls_tempreture.plot(kind='line', figsize=(40,6), title='Avg Tempatures by Activity')\n",
    "a = ax.set_xticklabels(samepls_tempreture['activity'])\n",
    "b = ax.legend(fontsize = 20)\n",
    "c = ax.set_xticks(np.arange(len(samepls_tempreture)))"
   ]
  },
  {
   "cell_type": "markdown",
   "id": "6c807e72",
   "metadata": {},
   "source": [
    "Subject 9 has the lowest temperatures in all of the sections of the human body that were measured, while rope jumping has the lowest activity temperatures."
   ]
  },
  {
   "cell_type": "markdown",
   "id": "51a787cb",
   "metadata": {},
   "source": [
    "#### Sensor Analysis"
   ]
  },
  {
   "cell_type": "code",
   "execution_count": 22,
   "id": "f2af04b1",
   "metadata": {},
   "outputs": [
    {
     "name": "stderr",
     "output_type": "stream",
     "text": [
      "<ipython-input-22-3f9cd2ea2a24>:6: UserWarning: FixedFormatter should only be used together with FixedLocator\n",
      "  a = ax.set_xticklabels(result_id['subject_id'])\n"
     ]
    },
    {
     "data": {
      "image/png": "[encoded data removed]",
      "text/plain": [
       "<Figure size 1440x432 with 1 Axes>"
      ]
     },
     "metadata": {
      "needs_background": "light"
     },
     "output_type": "display_data"
    }
   ],
   "source": [
    "samepls = pd.DataFrame()\n",
    "samepls['hand_x'] = result_id['handAcc16_1']\n",
    "samepls['hand_y'] = result_id['handAcc16_2']\n",
    "samepls['hand_z'] = result_id['handAcc16_3']\n",
    "ax = samepls.plot(kind='line', figsize=(20,6), title='Avg Hand Acceleration Value by Subjects')\n",
    "a = ax.set_xticklabels(result_id['subject_id'])\n",
    "b = ax.legend(fontsize = 20)\n",
    "c = ax.set_xticks(np.arange(len(samepls)))\n"
   ]
  },
  {
   "cell_type": "markdown",
   "id": "672b72ec",
   "metadata": {},
   "source": [
    "Predicting the future by looking at the past: We can build new features based on existing ones. This is the sliding window of the lookback in the previous features in our scenario to anticipate the next value.\n",
    "Predicting the past from the present: Similar to the last example, however this time the prediction is for the past rather than the future.\n",
    "Adjusting the model to predict a simple target - In our situation, making the target as basic as possible to make it easier to anticipate, in this example, prediction of the future activity based on a set of variables."
   ]
  },
  {
   "cell_type": "code",
   "execution_count": 23,
   "id": "054a92ed",
   "metadata": {},
   "outputs": [],
   "source": [
    "train_df = data.sample(frac=0.8, random_state=1)\n",
    "test_df = data.drop(train_df.index)"
   ]
  },
  {
   "cell_type": "code",
   "execution_count": 24,
   "id": "45f22e92",
   "metadata": {},
   "outputs": [],
   "source": [
    "train_data = data.sample(frac=0.8, random_state=1)\n",
    "test_data = data.drop(train_df.index)"
   ]
  },
  {
   "cell_type": "code",
   "execution_count": 25,
   "id": "15f2ea3c",
   "metadata": {
    "scrolled": true
   },
   "outputs": [
    {
     "data": {
      "text/html": [
       "<div>\n",
       "<style scoped>\n",
       "    .dataframe tbody tr th:only-of-type {\n",
       "        vertical-align: middle;\n",
       "    }\n",
       "\n",
       "    .dataframe tbody tr th {\n",
       "        vertical-align: top;\n",
       "    }\n",
       "\n",
       "    .dataframe thead th {\n",
       "        text-align: right;\n",
       "    }\n",
       "</style>\n",
       "<table border=\"1\" class=\"dataframe\">\n",
       "  <thead>\n",
       "    <tr style=\"text-align: right;\">\n",
       "      <th></th>\n",
       "      <th>timestamp</th>\n",
       "      <th>activityID</th>\n",
       "      <th>heartrate</th>\n",
       "      <th>handTemperature</th>\n",
       "      <th>handAcc16_1</th>\n",
       "      <th>handAcc16_2</th>\n",
       "      <th>handAcc16_3</th>\n",
       "      <th>handAcc6_1</th>\n",
       "      <th>handAcc6_2</th>\n",
       "      <th>handAcc6_3</th>\n",
       "      <th>...</th>\n",
       "      <th>ankleGyro2</th>\n",
       "      <th>ankleGyro3</th>\n",
       "      <th>ankleMagne1</th>\n",
       "      <th>ankleMagne2</th>\n",
       "      <th>ankleMagne3</th>\n",
       "      <th>ankleOrientation1</th>\n",
       "      <th>ankleOrientation2</th>\n",
       "      <th>ankleOrientation3</th>\n",
       "      <th>ankleOrientation4</th>\n",
       "      <th>subject_id</th>\n",
       "    </tr>\n",
       "  </thead>\n",
       "  <tbody>\n",
       "    <tr>\n",
       "      <th>count</th>\n",
       "      <td>1.229690e+06</td>\n",
       "      <td>1.229690e+06</td>\n",
       "      <td>1.229690e+06</td>\n",
       "      <td>1.229690e+06</td>\n",
       "      <td>1.229690e+06</td>\n",
       "      <td>1.229690e+06</td>\n",
       "      <td>1.229690e+06</td>\n",
       "      <td>1.229690e+06</td>\n",
       "      <td>1.229690e+06</td>\n",
       "      <td>1.229690e+06</td>\n",
       "      <td>...</td>\n",
       "      <td>1.229690e+06</td>\n",
       "      <td>1.229690e+06</td>\n",
       "      <td>1.229690e+06</td>\n",
       "      <td>1.229690e+06</td>\n",
       "      <td>1.229690e+06</td>\n",
       "      <td>1.229690e+06</td>\n",
       "      <td>1.229690e+06</td>\n",
       "      <td>1.229690e+06</td>\n",
       "      <td>1.229690e+06</td>\n",
       "      <td>1.229690e+06</td>\n",
       "    </tr>\n",
       "    <tr>\n",
       "      <th>mean</th>\n",
       "      <td>1.780985e+03</td>\n",
       "      <td>8.189170e+00</td>\n",
       "      <td>1.085942e+02</td>\n",
       "      <td>3.297811e+01</td>\n",
       "      <td>-4.845089e+00</td>\n",
       "      <td>3.526807e+00</td>\n",
       "      <td>3.497053e+00</td>\n",
       "      <td>-4.772121e+00</td>\n",
       "      <td>3.507408e+00</td>\n",
       "      <td>3.692960e+00</td>\n",
       "      <td>...</td>\n",
       "      <td>-3.448349e-02</td>\n",
       "      <td>2.489437e-03</td>\n",
       "      <td>-3.293129e+01</td>\n",
       "      <td>1.765651e+00</td>\n",
       "      <td>1.742041e+01</td>\n",
       "      <td>4.113525e-01</td>\n",
       "      <td>1.430587e-02</td>\n",
       "      <td>3.046326e-01</td>\n",
       "      <td>-3.128679e-02</td>\n",
       "      <td>4.828150e+00</td>\n",
       "    </tr>\n",
       "    <tr>\n",
       "      <th>std</th>\n",
       "      <td>1.134047e+03</td>\n",
       "      <td>6.228876e+00</td>\n",
       "      <td>2.797713e+01</td>\n",
       "      <td>1.796219e+00</td>\n",
       "      <td>6.372615e+00</td>\n",
       "      <td>7.530541e+00</td>\n",
       "      <td>4.068541e+00</td>\n",
       "      <td>6.370794e+00</td>\n",
       "      <td>7.176980e+00</td>\n",
       "      <td>4.052650e+00</td>\n",
       "      <td>...</td>\n",
       "      <td>6.808965e-01</td>\n",
       "      <td>2.098050e+00</td>\n",
       "      <td>1.862930e+01</td>\n",
       "      <td>2.255820e+01</td>\n",
       "      <td>2.014418e+01</td>\n",
       "      <td>3.184858e-01</td>\n",
       "      <td>5.613273e-01</td>\n",
       "      <td>3.365982e-01</td>\n",
       "      <td>4.549148e-01</td>\n",
       "      <td>2.546684e+00</td>\n",
       "    </tr>\n",
       "    <tr>\n",
       "      <th>min</th>\n",
       "      <td>3.120000e+01</td>\n",
       "      <td>1.000000e+00</td>\n",
       "      <td>6.000000e+01</td>\n",
       "      <td>2.487500e+01</td>\n",
       "      <td>-1.453670e+02</td>\n",
       "      <td>-1.043010e+02</td>\n",
       "      <td>-1.014520e+02</td>\n",
       "      <td>-6.121470e+01</td>\n",
       "      <td>-6.183480e+01</td>\n",
       "      <td>-6.193470e+01</td>\n",
       "      <td>...</td>\n",
       "      <td>-1.812690e+01</td>\n",
       "      <td>-1.401960e+01</td>\n",
       "      <td>-1.726240e+02</td>\n",
       "      <td>-1.379080e+02</td>\n",
       "      <td>-1.027160e+02</td>\n",
       "      <td>1.521280e-06</td>\n",
       "      <td>-9.568760e-01</td>\n",
       "      <td>-8.759780e-01</td>\n",
       "      <td>-9.972810e-01</td>\n",
       "      <td>1.000000e+00</td>\n",
       "    </tr>\n",
       "    <tr>\n",
       "      <th>25%</th>\n",
       "      <td>7.589400e+02</td>\n",
       "      <td>3.000000e+00</td>\n",
       "      <td>8.700000e+01</td>\n",
       "      <td>3.187500e+01</td>\n",
       "      <td>-8.891240e+00</td>\n",
       "      <td>7.910008e-01</td>\n",
       "      <td>9.983435e-01</td>\n",
       "      <td>-8.777250e+00</td>\n",
       "      <td>7.965570e-01</td>\n",
       "      <td>1.202360e+00</td>\n",
       "      <td>...</td>\n",
       "      <td>-1.047950e-01</td>\n",
       "      <td>-5.015007e-01</td>\n",
       "      <td>-4.249200e+01</td>\n",
       "      <td>-1.346827e+01</td>\n",
       "      <td>3.509005e+00</td>\n",
       "      <td>1.572790e-01</td>\n",
       "      <td>-5.534235e-01</td>\n",
       "      <td>0.000000e+00</td>\n",
       "      <td>-4.955618e-01</td>\n",
       "      <td>2.000000e+00</td>\n",
       "    </tr>\n",
       "    <tr>\n",
       "      <th>50%</th>\n",
       "      <td>1.626995e+03</td>\n",
       "      <td>6.000000e+00</td>\n",
       "      <td>1.040000e+02</td>\n",
       "      <td>3.356250e+01</td>\n",
       "      <td>-5.238005e+00</td>\n",
       "      <td>3.548140e+00</td>\n",
       "      <td>3.325880e+00</td>\n",
       "      <td>-5.138600e+00</td>\n",
       "      <td>3.586550e+00</td>\n",
       "      <td>3.559620e+00</td>\n",
       "      <td>...</td>\n",
       "      <td>-2.094015e-03</td>\n",
       "      <td>-2.235150e-03</td>\n",
       "      <td>-3.493985e+01</td>\n",
       "      <td>1.963570e+00</td>\n",
       "      <td>1.812075e+01</td>\n",
       "      <td>3.222270e-01</td>\n",
       "      <td>0.000000e+00</td>\n",
       "      <td>3.053645e-01</td>\n",
       "      <td>0.000000e+00</td>\n",
       "      <td>5.000000e+00</td>\n",
       "    </tr>\n",
       "    <tr>\n",
       "      <th>75%</th>\n",
       "      <td>2.817790e+03</td>\n",
       "      <td>1.300000e+01</td>\n",
       "      <td>1.250000e+02</td>\n",
       "      <td>3.425000e+01</td>\n",
       "      <td>-5.902463e-01</td>\n",
       "      <td>6.602770e+00</td>\n",
       "      <td>6.476332e+00</td>\n",
       "      <td>-4.869172e-01</td>\n",
       "      <td>6.597843e+00</td>\n",
       "      <td>6.742440e+00</td>\n",
       "      <td>...</td>\n",
       "      <td>1.566057e-01</td>\n",
       "      <td>1.199638e-01</td>\n",
       "      <td>-1.872150e+01</td>\n",
       "      <td>1.928280e+01</td>\n",
       "      <td>3.248140e+01</td>\n",
       "      <td>5.907558e-01</td>\n",
       "      <td>6.145760e-01</td>\n",
       "      <td>5.930750e-01</td>\n",
       "      <td>4.318538e-01</td>\n",
       "      <td>7.000000e+00</td>\n",
       "    </tr>\n",
       "    <tr>\n",
       "      <th>max</th>\n",
       "      <td>4.245680e+03</td>\n",
       "      <td>2.400000e+01</td>\n",
       "      <td>2.020000e+02</td>\n",
       "      <td>3.550000e+01</td>\n",
       "      <td>6.285960e+01</td>\n",
       "      <td>1.556990e+02</td>\n",
       "      <td>1.577600e+02</td>\n",
       "      <td>5.282140e+01</td>\n",
       "      <td>6.225980e+01</td>\n",
       "      <td>6.192340e+01</td>\n",
       "      <td>...</td>\n",
       "      <td>1.316350e+01</td>\n",
       "      <td>1.652880e+01</td>\n",
       "      <td>9.155160e+01</td>\n",
       "      <td>9.369920e+01</td>\n",
       "      <td>1.469000e+02</td>\n",
       "      <td>1.000000e+00</td>\n",
       "      <td>9.595380e-01</td>\n",
       "      <td>9.499800e-01</td>\n",
       "      <td>9.961050e-01</td>\n",
       "      <td>9.000000e+00</td>\n",
       "    </tr>\n",
       "  </tbody>\n",
       "</table>\n",
       "<p>8 rows × 55 columns</p>\n",
       "</div>"
      ],
      "text/plain": [
       "          timestamp    activityID     heartrate  handTemperature  \\\n",
       "count  1.229690e+06  1.229690e+06  1.229690e+06     1.229690e+06   \n",
       "mean   1.780985e+03  8.189170e+00  1.085942e+02     3.297811e+01   \n",
       "std    1.134047e+03  6.228876e+00  2.797713e+01     1.796219e+00   \n",
       "min    3.120000e+01  1.000000e+00  6.000000e+01     2.487500e+01   \n",
       "25%    7.589400e+02  3.000000e+00  8.700000e+01     3.187500e+01   \n",
       "50%    1.626995e+03  6.000000e+00  1.040000e+02     3.356250e+01   \n",
       "75%    2.817790e+03  1.300000e+01  1.250000e+02     3.425000e+01   \n",
       "max    4.245680e+03  2.400000e+01  2.020000e+02     3.550000e+01   \n",
       "\n",
       "        handAcc16_1   handAcc16_2   handAcc16_3    handAcc6_1    handAcc6_2  \\\n",
       "count  1.229690e+06  1.229690e+06  1.229690e+06  1.229690e+06  1.229690e+06   \n",
       "mean  -4.845089e+00  3.526807e+00  3.497053e+00 -4.772121e+00  3.507408e+00   \n",
       "std    6.372615e+00  7.530541e+00  4.068541e+00  6.370794e+00  7.176980e+00   \n",
       "min   -1.453670e+02 -1.043010e+02 -1.014520e+02 -6.121470e+01 -6.183480e+01   \n",
       "25%   -8.891240e+00  7.910008e-01  9.983435e-01 -8.777250e+00  7.965570e-01   \n",
       "50%   -5.238005e+00  3.548140e+00  3.325880e+00 -5.138600e+00  3.586550e+00   \n",
       "75%   -5.902463e-01  6.602770e+00  6.476332e+00 -4.869172e-01  6.597843e+00   \n",
       "max    6.285960e+01  1.556990e+02  1.577600e+02  5.282140e+01  6.225980e+01   \n",
       "\n",
       "         handAcc6_3  ...    ankleGyro2    ankleGyro3   ankleMagne1  \\\n",
       "count  1.229690e+06  ...  1.229690e+06  1.229690e+06  1.229690e+06   \n",
       "mean   3.692960e+00  ... -3.448349e-02  2.489437e-03 -3.293129e+01   \n",
       "std    4.052650e+00  ...  6.808965e-01  2.098050e+00  1.862930e+01   \n",
       "min   -6.193470e+01  ... -1.812690e+01 -1.401960e+01 -1.726240e+02   \n",
       "25%    1.202360e+00  ... -1.047950e-01 -5.015007e-01 -4.249200e+01   \n",
       "50%    3.559620e+00  ... -2.094015e-03 -2.235150e-03 -3.493985e+01   \n",
       "75%    6.742440e+00  ...  1.566057e-01  1.199638e-01 -1.872150e+01   \n",
       "max    6.192340e+01  ...  1.316350e+01  1.652880e+01  9.155160e+01   \n",
       "\n",
       "        ankleMagne2   ankleMagne3  ankleOrientation1  ankleOrientation2  \\\n",
       "count  1.229690e+06  1.229690e+06       1.229690e+06       1.229690e+06   \n",
       "mean   1.765651e+00  1.742041e+01       4.113525e-01       1.430587e-02   \n",
       "std    2.255820e+01  2.014418e+01       3.184858e-01       5.613273e-01   \n",
       "min   -1.379080e+02 -1.027160e+02       1.521280e-06      -9.568760e-01   \n",
       "25%   -1.346827e+01  3.509005e+00       1.572790e-01      -5.534235e-01   \n",
       "50%    1.963570e+00  1.812075e+01       3.222270e-01       0.000000e+00   \n",
       "75%    1.928280e+01  3.248140e+01       5.907558e-01       6.145760e-01   \n",
       "max    9.369920e+01  1.469000e+02       1.000000e+00       9.595380e-01   \n",
       "\n",
       "       ankleOrientation3  ankleOrientation4    subject_id  \n",
       "count       1.229690e+06       1.229690e+06  1.229690e+06  \n",
       "mean        3.046326e-01      -3.128679e-02  4.828150e+00  \n",
       "std         3.365982e-01       4.549148e-01  2.546684e+00  \n",
       "min        -8.759780e-01      -9.972810e-01  1.000000e+00  \n",
       "25%         0.000000e+00      -4.955618e-01  2.000000e+00  \n",
       "50%         3.053645e-01       0.000000e+00  5.000000e+00  \n",
       "75%         5.930750e-01       4.318538e-01  7.000000e+00  \n",
       "max         9.499800e-01       9.961050e-01  9.000000e+00  \n",
       "\n",
       "[8 rows x 55 columns]"
      ]
     },
     "execution_count": 25,
     "metadata": {},
     "output_type": "execute_result"
    }
   ],
   "source": [
    "train_df.describe()"
   ]
  },
  {
   "cell_type": "markdown",
   "id": "edbc4370",
   "metadata": {},
   "source": [
    "We'll concentrate on heart rate because it's our most important metric for tracking participants during activities, as indicated by the different signals in the dataset's readme file. With that in mind, we can see from the table that the average heart rate across the dataset is 108.5. Furthermore, the minimum and highest heart rates are 50 and 202, respectively. The quartiles revealed can be further analysed by generating a box plot, which will help us comprehend our outliers and quartiles groups while also displaying the mean of our data's heart rate."
   ]
  },
  {
   "cell_type": "code",
   "execution_count": 26,
   "id": "4fe92982",
   "metadata": {},
   "outputs": [
    {
     "data": {
      "image/png": "[encoded data removed]",
      "text/plain": [
       "<Figure size 864x432 with 1 Axes>"
      ]
     },
     "metadata": {
      "needs_background": "light"
     },
     "output_type": "display_data"
    }
   ],
   "source": [
    "data['activityID'].value_counts().plot(kind = \"bar\",figsize = (12,6))\n",
    "plt.show()"
   ]
  },
  {
   "cell_type": "markdown",
   "id": "b4eaba82",
   "metadata": {},
   "source": [
    "Our classrooms are mostly balanced, as shown in the graph above. As a result, we divide the data into two sets: train and test. The split fraction that will be employed is an 80 percent split for train set and a 20% split for test set, which is the most prevalent split in the industry."
   ]
  },
  {
   "cell_type": "code",
   "execution_count": 27,
   "id": "4723d886",
   "metadata": {
    "scrolled": true
   },
   "outputs": [
    {
     "data": {
      "image/png": "[encoded data removed]",
      "text/plain": [
       "<Figure size 288x288 with 1 Axes>"
      ]
     },
     "metadata": {
      "needs_background": "light"
     },
     "output_type": "display_data"
    }
   ],
   "source": [
    "import seaborn as sns\n",
    "\n",
    "fig, ax = plt.subplots(figsize=(4,4))\n",
    "plt.title(\"Heart Rate \")\n",
    "ax = sns.boxplot(y=train_df[\"heartrate\"])"
   ]
  },
  {
   "cell_type": "markdown",
   "id": "437981c0",
   "metadata": {},
   "source": [
    "We can see from the box plot that the outliers have heart rates ranging from 180 to 202. Our highest quartile group of the four starts at 125, which is the end of the Inter-quartile range, and ends at 180, which also makes it our largest group when compared to the other quartiles on the box plot. Meaning that the majority of participants in the activities had a heart rate ranging from 125 to 180 beats per minute. Our third quartile group begins at the mean value of 108.5, which corresponds to the horizontal line in our box, and ends at the Inter-quartile range's end value of 125. Our second quartile group begins at 87 and ends at 125, which is the mean value of the Inter-quartile range. To determine which activities are the most taxing, we must create a bar chart that displays the mean heart rate values for each activity. As a result, we will be able to analyse more particular activity data. The names of the activities will be utilised to make the outcomes analysis easier."
   ]
  },
  {
   "cell_type": "code",
   "execution_count": 28,
   "id": "6f3e56c0",
   "metadata": {},
   "outputs": [
    {
     "data": {
      "text/plain": [
       "<AxesSubplot:xlabel='activityID'>"
      ]
     },
     "execution_count": 28,
     "metadata": {},
     "output_type": "execute_result"
    },
    {
     "data": {
      "image/png": "[encoded data removed]",
      "text/plain": [
       "<Figure size 432x288 with 1 Axes>"
      ]
     },
     "metadata": {
      "needs_background": "light"
     },
     "output_type": "display_data"
    }
   ],
   "source": [
    "df_hr_act = train_df['heartrate'].groupby(train_df['activityID']).mean()\n",
    "df_hr_act.index = df_hr_act.index.map(activityIDdict)\n",
    "df_hr_act.plot(kind='bar')"
   ]
  },
  {
   "cell_type": "markdown",
   "id": "f22f84fe",
   "metadata": {},
   "source": [
    "A heat map is a graphical representation of data where individual values contained in a matrix are represented as colours. It gives us quick information through color patterns.You already know that if you have a data set with many columns, a good way to quickly check correlations among columns is by visualizing the correlation matrix as a heatmap."
   ]
  },
  {
   "cell_type": "code",
   "execution_count": 29,
   "id": "b0c22fc0",
   "metadata": {},
   "outputs": [
    {
     "name": "stderr",
     "output_type": "stream",
     "text": [
      "<ipython-input-29-409550941e6f>:6: DeprecationWarning: `np.bool` is a deprecated alias for the builtin `bool`. To silence this warning, use `bool` by itself. Doing this will not modify any behavior and is safe. If you specifically wanted the numpy scalar type, use `np.bool_` here.\n",
      "Deprecated in NumPy 1.20; for more details and guidance: https://numpy.org/devdocs/release/1.20.0-notes.html#deprecations\n",
      "  sns.heatmap(df_corr, mask=np.zeros_like(df_corr, dtype=np.bool), cmap = \"BrBG\",ax=ax)\n"
     ]
    },
    {
     "data": {
      "image/png": "[encoded data removed]",
      "text/plain": [
       "<Figure size 1080x720 with 2 Axes>"
      ]
     },
     "metadata": {
      "needs_background": "light"
     },
     "output_type": "display_data"
    }
   ],
   "source": [
    "from pandas.plotting import scatter_matrix\n",
    "df_corr = train_df.corr()\n",
    "df_corr = df_corr.drop(['activityID'], axis = 1)\n",
    "\n",
    "f, ax = plt.subplots(figsize=(15, 10))\n",
    "sns.heatmap(df_corr, mask=np.zeros_like(df_corr, dtype=np.bool), cmap = \"BrBG\",ax=ax)\n",
    "plt.show()"
   ]
  },
  {
   "cell_type": "markdown",
   "id": "c5e407a2",
   "metadata": {},
   "source": [
    "The heatmap is a way of representing the data in a 2-dimensional form. The data values are represented as colors in the graph. The goal of the heatmap is to provide a colored visual summary of information.The seaborn library is built on top of Matplotlib. Seaborn library provides a high-level data visualization interface where we can draw our matrix. A heatmap is a plot of rectangular data as a color-encoded matrix. As parameter it takes a 2D dataset. That dataset can be coerced into an ndarray.This is a great way to visualize data, because it can show the relation between variabels including time. For instance, the number of fligths through the years.\n",
    "\n"
   ]
  },
  {
   "cell_type": "markdown",
   "id": "8bdf3a70",
   "metadata": {},
   "source": [
    "Our heatmap depicts the degree of statistical similarity between our various columns. The gyroscopes do not correlate with any of our other data, and they appear to be unnecessary in our scenario.\n",
    "\n",
    "On the other hand, we can comprehend the relationship between hand accelerometers and temperature. On all three cases of hand accelerometers, the two are highly associated.\n",
    "\n",
    "Furthermore, the chest magnetometers appear to be linked to heart rate, which makes sense given how near they are on the body."
   ]
  },
  {
   "cell_type": "code",
   "execution_count": 30,
   "id": "28dee4b3",
   "metadata": {},
   "outputs": [
    {
     "data": {
      "text/html": [
       "<div>\n",
       "<style scoped>\n",
       "    .dataframe tbody tr th:only-of-type {\n",
       "        vertical-align: middle;\n",
       "    }\n",
       "\n",
       "    .dataframe tbody tr th {\n",
       "        vertical-align: top;\n",
       "    }\n",
       "\n",
       "    .dataframe thead th {\n",
       "        text-align: right;\n",
       "    }\n",
       "</style>\n",
       "<table border=\"1\" class=\"dataframe\">\n",
       "  <thead>\n",
       "    <tr style=\"text-align: right;\">\n",
       "      <th></th>\n",
       "      <th>timestamp</th>\n",
       "      <th>activityID</th>\n",
       "      <th>heartrate</th>\n",
       "      <th>handTemperature</th>\n",
       "      <th>handAcc16_1</th>\n",
       "      <th>handAcc16_2</th>\n",
       "      <th>handAcc16_3</th>\n",
       "      <th>handAcc6_1</th>\n",
       "      <th>handAcc6_2</th>\n",
       "      <th>handAcc6_3</th>\n",
       "      <th>...</th>\n",
       "      <th>ankleGyro2</th>\n",
       "      <th>ankleGyro3</th>\n",
       "      <th>ankleMagne1</th>\n",
       "      <th>ankleMagne2</th>\n",
       "      <th>ankleMagne3</th>\n",
       "      <th>ankleOrientation1</th>\n",
       "      <th>ankleOrientation2</th>\n",
       "      <th>ankleOrientation3</th>\n",
       "      <th>ankleOrientation4</th>\n",
       "      <th>subject_id</th>\n",
       "    </tr>\n",
       "  </thead>\n",
       "  <tbody>\n",
       "    <tr>\n",
       "      <th>1248380</th>\n",
       "      <td>507.69</td>\n",
       "      <td>2</td>\n",
       "      <td>75.0</td>\n",
       "      <td>33.5000</td>\n",
       "      <td>-0.257331</td>\n",
       "      <td>8.25615</td>\n",
       "      <td>5.088720</td>\n",
       "      <td>-0.065106</td>\n",
       "      <td>8.20775</td>\n",
       "      <td>5.397030</td>\n",
       "      <td>...</td>\n",
       "      <td>0.134611</td>\n",
       "      <td>-0.008476</td>\n",
       "      <td>-17.7673</td>\n",
       "      <td>-3.995380</td>\n",
       "      <td>12.12970</td>\n",
       "      <td>0.161068</td>\n",
       "      <td>-0.733466</td>\n",
       "      <td>0.270488</td>\n",
       "      <td>-0.602429</td>\n",
       "      <td>6</td>\n",
       "    </tr>\n",
       "    <tr>\n",
       "      <th>1017092</th>\n",
       "      <td>1942.45</td>\n",
       "      <td>12</td>\n",
       "      <td>144.0</td>\n",
       "      <td>34.6250</td>\n",
       "      <td>-6.999180</td>\n",
       "      <td>2.65150</td>\n",
       "      <td>4.621770</td>\n",
       "      <td>-6.972130</td>\n",
       "      <td>2.69962</td>\n",
       "      <td>5.038640</td>\n",
       "      <td>...</td>\n",
       "      <td>2.610650</td>\n",
       "      <td>1.893120</td>\n",
       "      <td>-15.0637</td>\n",
       "      <td>-33.862300</td>\n",
       "      <td>14.86860</td>\n",
       "      <td>0.409950</td>\n",
       "      <td>-0.797127</td>\n",
       "      <td>0.096054</td>\n",
       "      <td>-0.432786</td>\n",
       "      <td>5</td>\n",
       "    </tr>\n",
       "    <tr>\n",
       "      <th>1052425</th>\n",
       "      <td>2295.78</td>\n",
       "      <td>4</td>\n",
       "      <td>116.0</td>\n",
       "      <td>34.4375</td>\n",
       "      <td>-11.264500</td>\n",
       "      <td>3.69848</td>\n",
       "      <td>3.399720</td>\n",
       "      <td>-11.437500</td>\n",
       "      <td>3.68191</td>\n",
       "      <td>3.546080</td>\n",
       "      <td>...</td>\n",
       "      <td>-0.371699</td>\n",
       "      <td>-3.306210</td>\n",
       "      <td>-40.7795</td>\n",
       "      <td>-5.374100</td>\n",
       "      <td>28.50280</td>\n",
       "      <td>0.145982</td>\n",
       "      <td>0.574220</td>\n",
       "      <td>0.637304</td>\n",
       "      <td>0.492752</td>\n",
       "      <td>5</td>\n",
       "    </tr>\n",
       "    <tr>\n",
       "      <th>2234885</th>\n",
       "      <td>3618.58</td>\n",
       "      <td>5</td>\n",
       "      <td>195.0</td>\n",
       "      <td>30.8125</td>\n",
       "      <td>-5.159950</td>\n",
       "      <td>-4.62029</td>\n",
       "      <td>-0.752872</td>\n",
       "      <td>-5.429130</td>\n",
       "      <td>-5.69825</td>\n",
       "      <td>-0.260006</td>\n",
       "      <td>...</td>\n",
       "      <td>0.317085</td>\n",
       "      <td>-0.383519</td>\n",
       "      <td>-43.7134</td>\n",
       "      <td>52.531300</td>\n",
       "      <td>12.39830</td>\n",
       "      <td>0.326887</td>\n",
       "      <td>0.589765</td>\n",
       "      <td>0.719080</td>\n",
       "      <td>0.168066</td>\n",
       "      <td>8</td>\n",
       "    </tr>\n",
       "    <tr>\n",
       "      <th>1286006</th>\n",
       "      <td>883.95</td>\n",
       "      <td>17</td>\n",
       "      <td>94.0</td>\n",
       "      <td>33.8125</td>\n",
       "      <td>-5.431990</td>\n",
       "      <td>7.26444</td>\n",
       "      <td>4.206320</td>\n",
       "      <td>-5.307610</td>\n",
       "      <td>7.61044</td>\n",
       "      <td>4.482550</td>\n",
       "      <td>...</td>\n",
       "      <td>0.022499</td>\n",
       "      <td>0.024311</td>\n",
       "      <td>-40.0879</td>\n",
       "      <td>22.047100</td>\n",
       "      <td>39.67820</td>\n",
       "      <td>0.194800</td>\n",
       "      <td>0.742885</td>\n",
       "      <td>0.169106</td>\n",
       "      <td>0.617720</td>\n",
       "      <td>6</td>\n",
       "    </tr>\n",
       "    <tr>\n",
       "      <th>...</th>\n",
       "      <td>...</td>\n",
       "      <td>...</td>\n",
       "      <td>...</td>\n",
       "      <td>...</td>\n",
       "      <td>...</td>\n",
       "      <td>...</td>\n",
       "      <td>...</td>\n",
       "      <td>...</td>\n",
       "      <td>...</td>\n",
       "      <td>...</td>\n",
       "      <td>...</td>\n",
       "      <td>...</td>\n",
       "      <td>...</td>\n",
       "      <td>...</td>\n",
       "      <td>...</td>\n",
       "      <td>...</td>\n",
       "      <td>...</td>\n",
       "      <td>...</td>\n",
       "      <td>...</td>\n",
       "      <td>...</td>\n",
       "      <td>...</td>\n",
       "    </tr>\n",
       "    <tr>\n",
       "      <th>126484</th>\n",
       "      <td>1273.22</td>\n",
       "      <td>16</td>\n",
       "      <td>134.0</td>\n",
       "      <td>33.5625</td>\n",
       "      <td>6.184840</td>\n",
       "      <td>10.32210</td>\n",
       "      <td>4.177580</td>\n",
       "      <td>5.173180</td>\n",
       "      <td>9.64786</td>\n",
       "      <td>3.138500</td>\n",
       "      <td>...</td>\n",
       "      <td>-0.105623</td>\n",
       "      <td>-0.307932</td>\n",
       "      <td>17.5556</td>\n",
       "      <td>-9.054310</td>\n",
       "      <td>-9.69998</td>\n",
       "      <td>1.000000</td>\n",
       "      <td>0.000000</td>\n",
       "      <td>0.000000</td>\n",
       "      <td>0.000000</td>\n",
       "      <td>1</td>\n",
       "    </tr>\n",
       "    <tr>\n",
       "      <th>1789699</th>\n",
       "      <td>2302.74</td>\n",
       "      <td>4</td>\n",
       "      <td>104.0</td>\n",
       "      <td>33.0000</td>\n",
       "      <td>-13.284600</td>\n",
       "      <td>2.66754</td>\n",
       "      <td>0.909750</td>\n",
       "      <td>-14.451100</td>\n",
       "      <td>2.94594</td>\n",
       "      <td>0.757136</td>\n",
       "      <td>...</td>\n",
       "      <td>1.473260</td>\n",
       "      <td>-2.618100</td>\n",
       "      <td>-42.9973</td>\n",
       "      <td>-7.218120</td>\n",
       "      <td>20.55460</td>\n",
       "      <td>0.090480</td>\n",
       "      <td>0.555442</td>\n",
       "      <td>0.504172</td>\n",
       "      <td>0.655064</td>\n",
       "      <td>7</td>\n",
       "    </tr>\n",
       "    <tr>\n",
       "      <th>930874</th>\n",
       "      <td>1080.27</td>\n",
       "      <td>17</td>\n",
       "      <td>93.0</td>\n",
       "      <td>35.3750</td>\n",
       "      <td>-1.896090</td>\n",
       "      <td>7.57376</td>\n",
       "      <td>3.719420</td>\n",
       "      <td>-1.280720</td>\n",
       "      <td>6.58421</td>\n",
       "      <td>4.042760</td>\n",
       "      <td>...</td>\n",
       "      <td>0.442106</td>\n",
       "      <td>0.074144</td>\n",
       "      <td>-36.8616</td>\n",
       "      <td>10.569700</td>\n",
       "      <td>44.09960</td>\n",
       "      <td>0.091468</td>\n",
       "      <td>0.761769</td>\n",
       "      <td>0.198835</td>\n",
       "      <td>0.609759</td>\n",
       "      <td>5</td>\n",
       "    </tr>\n",
       "    <tr>\n",
       "      <th>354803</th>\n",
       "      <td>3556.41</td>\n",
       "      <td>24</td>\n",
       "      <td>175.0</td>\n",
       "      <td>30.1875</td>\n",
       "      <td>-2.640920</td>\n",
       "      <td>4.61611</td>\n",
       "      <td>-5.172350</td>\n",
       "      <td>-1.890110</td>\n",
       "      <td>5.82502</td>\n",
       "      <td>-5.030510</td>\n",
       "      <td>...</td>\n",
       "      <td>-0.706161</td>\n",
       "      <td>-3.939370</td>\n",
       "      <td>-47.9416</td>\n",
       "      <td>-34.076400</td>\n",
       "      <td>38.59500</td>\n",
       "      <td>1.000000</td>\n",
       "      <td>0.000000</td>\n",
       "      <td>0.000000</td>\n",
       "      <td>0.000000</td>\n",
       "      <td>1</td>\n",
       "    </tr>\n",
       "    <tr>\n",
       "      <th>2006082</th>\n",
       "      <td>1330.55</td>\n",
       "      <td>16</td>\n",
       "      <td>103.0</td>\n",
       "      <td>34.7500</td>\n",
       "      <td>-3.440710</td>\n",
       "      <td>-6.30246</td>\n",
       "      <td>7.784270</td>\n",
       "      <td>-2.523420</td>\n",
       "      <td>-9.33730</td>\n",
       "      <td>6.676250</td>\n",
       "      <td>...</td>\n",
       "      <td>0.022959</td>\n",
       "      <td>0.009721</td>\n",
       "      <td>-10.2513</td>\n",
       "      <td>-0.198009</td>\n",
       "      <td>29.88070</td>\n",
       "      <td>0.026431</td>\n",
       "      <td>0.769050</td>\n",
       "      <td>-0.117702</td>\n",
       "      <td>0.627702</td>\n",
       "      <td>8</td>\n",
       "    </tr>\n",
       "  </tbody>\n",
       "</table>\n",
       "<p>1229690 rows × 55 columns</p>\n",
       "</div>"
      ],
      "text/plain": [
       "         timestamp  activityID  heartrate  handTemperature  handAcc16_1  \\\n",
       "1248380     507.69           2       75.0          33.5000    -0.257331   \n",
       "1017092    1942.45          12      144.0          34.6250    -6.999180   \n",
       "1052425    2295.78           4      116.0          34.4375   -11.264500   \n",
       "2234885    3618.58           5      195.0          30.8125    -5.159950   \n",
       "1286006     883.95          17       94.0          33.8125    -5.431990   \n",
       "...            ...         ...        ...              ...          ...   \n",
       "126484     1273.22          16      134.0          33.5625     6.184840   \n",
       "1789699    2302.74           4      104.0          33.0000   -13.284600   \n",
       "930874     1080.27          17       93.0          35.3750    -1.896090   \n",
       "354803     3556.41          24      175.0          30.1875    -2.640920   \n",
       "2006082    1330.55          16      103.0          34.7500    -3.440710   \n",
       "\n",
       "         handAcc16_2  handAcc16_3  handAcc6_1  handAcc6_2  handAcc6_3  ...  \\\n",
       "1248380      8.25615     5.088720   -0.065106     8.20775    5.397030  ...   \n",
       "1017092      2.65150     4.621770   -6.972130     2.69962    5.038640  ...   \n",
       "1052425      3.69848     3.399720  -11.437500     3.68191    3.546080  ...   \n",
       "2234885     -4.62029    -0.752872   -5.429130    -5.69825   -0.260006  ...   \n",
       "1286006      7.26444     4.206320   -5.307610     7.61044    4.482550  ...   \n",
       "...              ...          ...         ...         ...         ...  ...   \n",
       "126484      10.32210     4.177580    5.173180     9.64786    3.138500  ...   \n",
       "1789699      2.66754     0.909750  -14.451100     2.94594    0.757136  ...   \n",
       "930874       7.57376     3.719420   -1.280720     6.58421    4.042760  ...   \n",
       "354803       4.61611    -5.172350   -1.890110     5.82502   -5.030510  ...   \n",
       "2006082     -6.30246     7.784270   -2.523420    -9.33730    6.676250  ...   \n",
       "\n",
       "         ankleGyro2  ankleGyro3  ankleMagne1  ankleMagne2  ankleMagne3  \\\n",
       "1248380    0.134611   -0.008476     -17.7673    -3.995380     12.12970   \n",
       "1017092    2.610650    1.893120     -15.0637   -33.862300     14.86860   \n",
       "1052425   -0.371699   -3.306210     -40.7795    -5.374100     28.50280   \n",
       "2234885    0.317085   -0.383519     -43.7134    52.531300     12.39830   \n",
       "1286006    0.022499    0.024311     -40.0879    22.047100     39.67820   \n",
       "...             ...         ...          ...          ...          ...   \n",
       "126484    -0.105623   -0.307932      17.5556    -9.054310     -9.69998   \n",
       "1789699    1.473260   -2.618100     -42.9973    -7.218120     20.55460   \n",
       "930874     0.442106    0.074144     -36.8616    10.569700     44.09960   \n",
       "354803    -0.706161   -3.939370     -47.9416   -34.076400     38.59500   \n",
       "2006082    0.022959    0.009721     -10.2513    -0.198009     29.88070   \n",
       "\n",
       "         ankleOrientation1  ankleOrientation2  ankleOrientation3  \\\n",
       "1248380           0.161068          -0.733466           0.270488   \n",
       "1017092           0.409950          -0.797127           0.096054   \n",
       "1052425           0.145982           0.574220           0.637304   \n",
       "2234885           0.326887           0.589765           0.719080   \n",
       "1286006           0.194800           0.742885           0.169106   \n",
       "...                    ...                ...                ...   \n",
       "126484            1.000000           0.000000           0.000000   \n",
       "1789699           0.090480           0.555442           0.504172   \n",
       "930874            0.091468           0.761769           0.198835   \n",
       "354803            1.000000           0.000000           0.000000   \n",
       "2006082           0.026431           0.769050          -0.117702   \n",
       "\n",
       "         ankleOrientation4  subject_id  \n",
       "1248380          -0.602429           6  \n",
       "1017092          -0.432786           5  \n",
       "1052425           0.492752           5  \n",
       "2234885           0.168066           8  \n",
       "1286006           0.617720           6  \n",
       "...                    ...         ...  \n",
       "126484            0.000000           1  \n",
       "1789699           0.655064           7  \n",
       "930874            0.609759           5  \n",
       "354803            0.000000           1  \n",
       "2006082           0.627702           8  \n",
       "\n",
       "[1229690 rows x 55 columns]"
      ]
     },
     "execution_count": 30,
     "metadata": {},
     "output_type": "execute_result"
    }
   ],
   "source": [
    "train_df"
   ]
  },
  {
   "cell_type": "markdown",
   "id": "3f7724b2",
   "metadata": {},
   "source": [
    "mean value of the Activity ID and the Heart rate. Daily activities like sitting standing and laying has very less mean value of the heart rate like 75, 80,87. There are other additional excercises like running/ cycling/ rope jumping walking etc has better average mean value. "
   ]
  },
  {
   "cell_type": "code",
   "execution_count": 31,
   "id": "4b09ddef",
   "metadata": {
    "scrolled": true
   },
   "outputs": [
    {
     "data": {
      "text/plain": [
       "activityID\n",
       "1      75.906746\n",
       "2      80.253864\n",
       "3      87.014019\n",
       "4     112.019717\n",
       "5     156.619276\n",
       "6     124.221481\n",
       "7     123.530796\n",
       "12    129.128067\n",
       "13    128.404310\n",
       "16    104.618869\n",
       "17     88.532578\n",
       "24    161.958167\n",
       "Name: heartrate, dtype: float64"
      ]
     },
     "execution_count": 31,
     "metadata": {},
     "output_type": "execute_result"
    }
   ],
   "source": [
    "runtime =  train_df.groupby('activityID')['heartrate'].mean()\n",
    "runtime"
   ]
  },
  {
   "cell_type": "markdown",
   "id": "898fd256",
   "metadata": {},
   "source": [
    "calculating the average heart rate for all subject IDs so that we can see who has the lowest heart rate and who has the highest heart rate"
   ]
  },
  {
   "cell_type": "markdown",
   "id": "17ae56a5",
   "metadata": {},
   "source": [
    "Some activities have comparable heart rates, such as 123,124,129, thus I'd want to compare any one of them to common household tasks, such as the one with the lowest heart rate."
   ]
  },
  {
   "cell_type": "code",
   "execution_count": 32,
   "id": "dce2dfa0",
   "metadata": {},
   "outputs": [
    {
     "data": {
      "text/plain": [
       "124.22148061667659"
      ]
     },
     "execution_count": 32,
     "metadata": {},
     "output_type": "execute_result"
    }
   ],
   "source": [
    "cycling_data = train_df.loc[(train_df[\"activityID\"] == 6)]\n",
    "cycling_mean = (cycling_data)['heartrate'].mean()\n",
    "cycling_mean"
   ]
  },
  {
   "cell_type": "code",
   "execution_count": 33,
   "id": "cda42238",
   "metadata": {},
   "outputs": [
    {
     "data": {
      "text/plain": [
       "80.25386388646461"
      ]
     },
     "execution_count": 33,
     "metadata": {},
     "output_type": "execute_result"
    }
   ],
   "source": [
    "sitting_data = train_df.loc[(train_df[\"activityID\"] == 2)]\n",
    "sitting_mean = (sitting_data)['heartrate'].mean()\n",
    "sitting_mean"
   ]
  },
  {
   "cell_type": "markdown",
   "id": "4bddad86",
   "metadata": {},
   "source": [
    "### Hypothesis testing:"
   ]
  },
  {
   "cell_type": "markdown",
   "id": "972e9690",
   "metadata": {},
   "source": [
    "Hypothesis or significance testing is a mathematical model for testing a claim, idea or hypothesis about a parameter of interest in a given population set, using data measured in a sample set. Calculations are performed on selected samples to gather more decisive information about the characteristics of the entire population, which enables a systematic way to test claims or ideas about the entire dataset."
   ]
  },
  {
   "cell_type": "markdown",
   "id": "3063d575",
   "metadata": {},
   "source": [
    "If the cycling/running/nordic walking have higher heart rate than other activities like sitting/standing then \n",
    "the average mean heart rate will be greater for cycling/running/nordic than for sitting/standing\n",
    "\n",
    "If portion is proposed testable relationship.\n",
    "\n",
    "The then-Portion is the predicted results from an experiment.\n",
    "\n",
    "2 variables:\n",
    "1)independent variable(controlled)[cause i.e physical activities]\n",
    "2)dependent variable(observed)[effect i.e Heart rate]"
   ]
  },
  {
   "cell_type": "markdown",
   "id": "32f98db4",
   "metadata": {},
   "source": [
    "Null hypothesis (H0)\n",
    "The null hypothesis states that a population parameter (such as the mean, the standard deviation, and so on) is equal to a hypothesized value. The null hypothesis is often an initial claim that is based on previous analyses or specialized knowledge.\n",
    "\n",
    "Alternative Hypothesis (H1)\n",
    "The alternative hypothesis states that a population parameter is smaller, greater, or different than the hypothesized value in the null hypothesis. The alternative hypothesis is what you might believe to be true or hope to prove true.\n",
    "\n"
   ]
  },
  {
   "cell_type": "markdown",
   "id": "fd222ca8",
   "metadata": {},
   "source": [
    "###### Mean value \n",
    "             cycling   sitting\n",
    "heart rate   124.22   |    80.25"
   ]
  },
  {
   "cell_type": "markdown",
   "id": "9b6c53d0",
   "metadata": {},
   "source": [
    "Null Hypothesis : heart rate does not depend on the Pysical activities like cycling/running/nordic or sitting/standing\n",
    "        \n",
    "Alternative Hypothesis : People can conduct more physical activities than sitting/standing if the heart rate of physical activities is higher than sitting/standing."
   ]
  },
  {
   "cell_type": "code",
   "execution_count": 34,
   "id": "8d9c36d5",
   "metadata": {},
   "outputs": [
    {
     "name": "stdout",
     "output_type": "stream",
     "text": [
      "one_tail cycling and sitting activity difference:  0.0\n"
     ]
    }
   ],
   "source": [
    "from scipy import stats\n",
    "heartrate_means=train_df.groupby('activityID')['heartrate'].mean()\n",
    "heartrate_std=train_df.groupby('activityID')['heartrate'].std()\n",
    "heartrate_count=train_df.groupby('activityID')['heartrate'].count()\n",
    "combinederror=(((heartrate_std[6]**2)/heartrate_count[6])+((heartrate_std[2]**2)/heartrate_count[2]))**0.5   \n",
    "z=(heartrate_means[6]-heartrate_means[2])/combinederror\n",
    "\n",
    "p_value_from_normal_for_diff = (1-stats.norm.cdf(z))\n",
    "print ('one_tail cycling and sitting activity difference: ', p_value_from_normal_for_diff)"
   ]
  },
  {
   "cell_type": "markdown",
   "id": "eae14191",
   "metadata": {},
   "source": [
    "Because my testing's P value is 0.0, we can disregard the Null hypothesis value because it is less than 0.05. As a result, I would conclude that my alternative hypothesis, which states that people can engage in more physical activity than just sitting and standing in their everyday routine, is valid. The null hypothesis can be ruled out."
   ]
  },
  {
   "cell_type": "markdown",
   "id": "a20dc639",
   "metadata": {},
   "source": [
    "## Modelling"
   ]
  },
  {
   "cell_type": "markdown",
   "id": "cc0f8101",
   "metadata": {},
   "source": [
    "Data analysts build models for two basic reasons: to understand the past and to predict the future. One would like to understand how the data were generated, the relationships between variables, and any special structure that may exist in the data. The process of creating this understanding is often referred to as unsupervised learning. A more focused task is to build a prediction model, which allows one to predict the future value of a target variable as a function of the other variables at one’s disposal, and/or at a future time."
   ]
  },
  {
   "cell_type": "markdown",
   "id": "8ec60088",
   "metadata": {},
   "source": [
    "Some factors must be eliminated, which will have an impact on our modelling precision. The variables to be eliminated are timestamp and subject id, which are numeric numbers that our modelling technique would employ in its calculations, but their values have no relevance, therefore the modelling method would have noise and accuracy estimates would be inaccurate."
   ]
  },
  {
   "cell_type": "markdown",
   "id": "1b2dd037",
   "metadata": {},
   "source": []
  },
  {
   "cell_type": "code",
   "execution_count": 35,
   "id": "c525d019",
   "metadata": {},
   "outputs": [],
   "source": [
    "from sklearn.tree import DecisionTreeClassifier\n",
    "from sklearn.model_selection import train_test_split,cross_val_score,StratifiedShuffleSplit\n",
    "from sklearn.metrics import precision_score,recall_score, f1_score, confusion_matrix,roc_auc_score,roc_curve, accuracy_score\n",
    "from sklearn.preprocessing import StandardScaler, RobustScaler\n",
    "from sklearn.decomposition import PCA, TruncatedSVD\n",
    "from sklearn.linear_model import LogisticRegression\n",
    "from sklearn.neighbors import KNeighborsClassifier\n",
    "from sklearn.svm import SVC"
   ]
  },
  {
   "cell_type": "code",
   "execution_count": 36,
   "id": "4c46b95a",
   "metadata": {},
   "outputs": [],
   "source": [
    "train_df = train_df.drop([\"timestamp\", \"subject_id\"],1)"
   ]
  },
  {
   "cell_type": "code",
   "execution_count": 37,
   "id": "0a9d5466",
   "metadata": {},
   "outputs": [
    {
     "data": {
      "text/html": [
       "<div>\n",
       "<style scoped>\n",
       "    .dataframe tbody tr th:only-of-type {\n",
       "        vertical-align: middle;\n",
       "    }\n",
       "\n",
       "    .dataframe tbody tr th {\n",
       "        vertical-align: top;\n",
       "    }\n",
       "\n",
       "    .dataframe thead th {\n",
       "        text-align: right;\n",
       "    }\n",
       "</style>\n",
       "<table border=\"1\" class=\"dataframe\">\n",
       "  <thead>\n",
       "    <tr style=\"text-align: right;\">\n",
       "      <th></th>\n",
       "      <th>activityID</th>\n",
       "      <th>heartrate</th>\n",
       "      <th>handTemperature</th>\n",
       "      <th>handAcc16_1</th>\n",
       "      <th>handAcc16_2</th>\n",
       "      <th>handAcc16_3</th>\n",
       "      <th>handAcc6_1</th>\n",
       "      <th>handAcc6_2</th>\n",
       "      <th>handAcc6_3</th>\n",
       "      <th>handGyro1</th>\n",
       "      <th>...</th>\n",
       "      <th>ankleGyro1</th>\n",
       "      <th>ankleGyro2</th>\n",
       "      <th>ankleGyro3</th>\n",
       "      <th>ankleMagne1</th>\n",
       "      <th>ankleMagne2</th>\n",
       "      <th>ankleMagne3</th>\n",
       "      <th>ankleOrientation1</th>\n",
       "      <th>ankleOrientation2</th>\n",
       "      <th>ankleOrientation3</th>\n",
       "      <th>ankleOrientation4</th>\n",
       "    </tr>\n",
       "  </thead>\n",
       "  <tbody>\n",
       "    <tr>\n",
       "      <th>1248380</th>\n",
       "      <td>2</td>\n",
       "      <td>-0.763158</td>\n",
       "      <td>-0.026316</td>\n",
       "      <td>0.600009</td>\n",
       "      <td>0.810082</td>\n",
       "      <td>0.321804</td>\n",
       "      <td>0.611977</td>\n",
       "      <td>0.796582</td>\n",
       "      <td>0.331658</td>\n",
       "      <td>-0.008497</td>\n",
       "      <td>...</td>\n",
       "      <td>0.027696</td>\n",
       "      <td>0.134611</td>\n",
       "      <td>-0.008476</td>\n",
       "      <td>-17.7673</td>\n",
       "      <td>-3.99538</td>\n",
       "      <td>12.1297</td>\n",
       "      <td>0.161068</td>\n",
       "      <td>-0.733466</td>\n",
       "      <td>0.270488</td>\n",
       "      <td>-0.602429</td>\n",
       "    </tr>\n",
       "    <tr>\n",
       "      <th>1017092</th>\n",
       "      <td>12</td>\n",
       "      <td>1.052632</td>\n",
       "      <td>0.447368</td>\n",
       "      <td>-0.212164</td>\n",
       "      <td>-0.154280</td>\n",
       "      <td>0.236563</td>\n",
       "      <td>-0.221165</td>\n",
       "      <td>-0.152885</td>\n",
       "      <td>0.266967</td>\n",
       "      <td>-1.810634</td>\n",
       "      <td>...</td>\n",
       "      <td>1.678880</td>\n",
       "      <td>2.610650</td>\n",
       "      <td>1.893120</td>\n",
       "      <td>-15.0637</td>\n",
       "      <td>-33.86230</td>\n",
       "      <td>14.8686</td>\n",
       "      <td>0.409950</td>\n",
       "      <td>-0.797127</td>\n",
       "      <td>0.096054</td>\n",
       "      <td>-0.432786</td>\n",
       "    </tr>\n",
       "    <tr>\n",
       "      <th>1052425</th>\n",
       "      <td>4</td>\n",
       "      <td>0.315789</td>\n",
       "      <td>0.368421</td>\n",
       "      <td>-0.725997</td>\n",
       "      <td>0.025868</td>\n",
       "      <td>0.013479</td>\n",
       "      <td>-0.759789</td>\n",
       "      <td>0.016438</td>\n",
       "      <td>-0.002444</td>\n",
       "      <td>-0.955616</td>\n",
       "      <td>...</td>\n",
       "      <td>-3.955650</td>\n",
       "      <td>-0.371699</td>\n",
       "      <td>-3.306210</td>\n",
       "      <td>-40.7795</td>\n",
       "      <td>-5.37410</td>\n",
       "      <td>28.5028</td>\n",
       "      <td>0.145982</td>\n",
       "      <td>0.574220</td>\n",
       "      <td>0.637304</td>\n",
       "      <td>0.492752</td>\n",
       "    </tr>\n",
       "    <tr>\n",
       "      <th>2234885</th>\n",
       "      <td>5</td>\n",
       "      <td>2.394737</td>\n",
       "      <td>-1.157895</td>\n",
       "      <td>0.009403</td>\n",
       "      <td>-1.405498</td>\n",
       "      <td>-0.744571</td>\n",
       "      <td>-0.035044</td>\n",
       "      <td>-1.600473</td>\n",
       "      <td>-0.689453</td>\n",
       "      <td>5.507874</td>\n",
       "      <td>...</td>\n",
       "      <td>1.143400</td>\n",
       "      <td>0.317085</td>\n",
       "      <td>-0.383519</td>\n",
       "      <td>-43.7134</td>\n",
       "      <td>52.53130</td>\n",
       "      <td>12.3983</td>\n",
       "      <td>0.326887</td>\n",
       "      <td>0.589765</td>\n",
       "      <td>0.719080</td>\n",
       "      <td>0.168066</td>\n",
       "    </tr>\n",
       "    <tr>\n",
       "      <th>1286006</th>\n",
       "      <td>17</td>\n",
       "      <td>-0.263158</td>\n",
       "      <td>0.105263</td>\n",
       "      <td>-0.023369</td>\n",
       "      <td>0.639444</td>\n",
       "      <td>0.160723</td>\n",
       "      <td>-0.020386</td>\n",
       "      <td>0.693620</td>\n",
       "      <td>0.166591</td>\n",
       "      <td>-0.506819</td>\n",
       "      <td>...</td>\n",
       "      <td>0.014814</td>\n",
       "      <td>0.022499</td>\n",
       "      <td>0.024311</td>\n",
       "      <td>-40.0879</td>\n",
       "      <td>22.04710</td>\n",
       "      <td>39.6782</td>\n",
       "      <td>0.194800</td>\n",
       "      <td>0.742885</td>\n",
       "      <td>0.169106</td>\n",
       "      <td>0.617720</td>\n",
       "    </tr>\n",
       "  </tbody>\n",
       "</table>\n",
       "<p>5 rows × 53 columns</p>\n",
       "</div>"
      ],
      "text/plain": [
       "         activityID  heartrate  handTemperature  handAcc16_1  handAcc16_2  \\\n",
       "1248380           2  -0.763158        -0.026316     0.600009     0.810082   \n",
       "1017092          12   1.052632         0.447368    -0.212164    -0.154280   \n",
       "1052425           4   0.315789         0.368421    -0.725997     0.025868   \n",
       "2234885           5   2.394737        -1.157895     0.009403    -1.405498   \n",
       "1286006          17  -0.263158         0.105263    -0.023369     0.639444   \n",
       "\n",
       "         handAcc16_3  handAcc6_1  handAcc6_2  handAcc6_3  handGyro1  ...  \\\n",
       "1248380     0.321804    0.611977    0.796582    0.331658  -0.008497  ...   \n",
       "1017092     0.236563   -0.221165   -0.152885    0.266967  -1.810634  ...   \n",
       "1052425     0.013479   -0.759789    0.016438   -0.002444  -0.955616  ...   \n",
       "2234885    -0.744571   -0.035044   -1.600473   -0.689453   5.507874  ...   \n",
       "1286006     0.160723   -0.020386    0.693620    0.166591  -0.506819  ...   \n",
       "\n",
       "         ankleGyro1  ankleGyro2  ankleGyro3  ankleMagne1  ankleMagne2  \\\n",
       "1248380    0.027696    0.134611   -0.008476     -17.7673     -3.99538   \n",
       "1017092    1.678880    2.610650    1.893120     -15.0637    -33.86230   \n",
       "1052425   -3.955650   -0.371699   -3.306210     -40.7795     -5.37410   \n",
       "2234885    1.143400    0.317085   -0.383519     -43.7134     52.53130   \n",
       "1286006    0.014814    0.022499    0.024311     -40.0879     22.04710   \n",
       "\n",
       "         ankleMagne3  ankleOrientation1  ankleOrientation2  ankleOrientation3  \\\n",
       "1248380      12.1297           0.161068          -0.733466           0.270488   \n",
       "1017092      14.8686           0.409950          -0.797127           0.096054   \n",
       "1052425      28.5028           0.145982           0.574220           0.637304   \n",
       "2234885      12.3983           0.326887           0.589765           0.719080   \n",
       "1286006      39.6782           0.194800           0.742885           0.169106   \n",
       "\n",
       "         ankleOrientation4  \n",
       "1248380          -0.602429  \n",
       "1017092          -0.432786  \n",
       "1052425           0.492752  \n",
       "2234885           0.168066  \n",
       "1286006           0.617720  \n",
       "\n",
       "[5 rows x 53 columns]"
      ]
     },
     "execution_count": 37,
     "metadata": {},
     "output_type": "execute_result"
    }
   ],
   "source": [
    "from sklearn import preprocessing\n",
    "from sklearn.preprocessing import StandardScaler,RobustScaler\n",
    "\n",
    "scaler = RobustScaler()\n",
    "df_scaled = train_df.copy()\n",
    "df_scaled_test = test_df.copy()\n",
    "df_scaled.iloc[:,1:41] = scaler.fit_transform(df_scaled.iloc[:,1:41])\n",
    "df_scaled_test.iloc[:,1:41] = scaler.fit_transform(df_scaled_test.iloc[:,1:41])\n",
    "\n",
    "df_scaled.head()"
   ]
  },
  {
   "cell_type": "code",
   "execution_count": 38,
   "id": "19ff25c5",
   "metadata": {},
   "outputs": [],
   "source": [
    "\n",
    "X_train = df_scaled.drop('activityID', axis=1).values\n",
    "y_train = df_scaled['activityID'].values\n",
    "\n",
    "# Test Dataset\n",
    "X_test = df_scaled.drop('activityID', axis=1).values\n",
    "y_test = df_scaled['activityID'].values"
   ]
  },
  {
   "cell_type": "markdown",
   "id": "7257ccd8",
   "metadata": {},
   "source": [
    "Usually, 90-98 percent of the variance will adequately explain our findings. So we could evaluate how many of those we could employ by displaying the variance ratio against the number of components. As shown in the graph below, 15 variables account for roughly 94 percent of the variance."
   ]
  },
  {
   "cell_type": "markdown",
   "id": "51c7decd",
   "metadata": {},
   "source": []
  },
  {
   "cell_type": "markdown",
   "id": "b0be148c",
   "metadata": {},
   "source": [
    "#### Logistic Regression:"
   ]
  },
  {
   "cell_type": "markdown",
   "id": "45adf843",
   "metadata": {},
   "source": [
    "Linear regression is a data science modeling technique that predicts a target variable. It completes this function by finding the “best” relationship between the independent and dependent variable. The resultant graph should ideally ensure that the sum of all the distances between the shape and the actual observation is small. The smaller the distance between the mentioned points, the smaller the chances of an error occuring.\n",
    "\n",
    "Linear regression is further divided into the subtypes: simple linear regression and multiple linear regression. The former predicts the dependent variable using a single independent variable. Meanwhile, the latter uses the best linear relationship by using several independent variables to predict the dependent variable."
   ]
  },
  {
   "cell_type": "markdown",
   "id": "5faccd9d",
   "metadata": {},
   "source": [
    "#### Logistic Regression Model without PCA"
   ]
  },
  {
   "cell_type": "code",
   "execution_count": 39,
   "id": "0b214f52",
   "metadata": {},
   "outputs": [
    {
     "name": "stderr",
     "output_type": "stream",
     "text": [
      "/Users/pushpanb/anaconda3/lib/python3.8/site-packages/sklearn/linear_model/_logistic.py:763: ConvergenceWarning: lbfgs failed to converge (status=1):\n",
      "STOP: TOTAL NO. of ITERATIONS REACHED LIMIT.\n",
      "\n",
      "Increase the number of iterations (max_iter) or scale the data as shown in:\n",
      "    https://scikit-learn.org/stable/modules/preprocessing.html\n",
      "Please also refer to the documentation for alternative solver options:\n",
      "    https://scikit-learn.org/stable/modules/linear_model.html#logistic-regression\n",
      "  n_iter_i = _check_optimize_result(\n"
     ]
    },
    {
     "name": "stdout",
     "output_type": "stream",
     "text": [
      "Accuracy:  0.8681659605266367\n",
      "Error:  0.8681659605266367\n",
      "Precision 0.8449186866741621\n",
      "Recall 0.8363732021119139\n",
      "F1 0.8396724635808401\n"
     ]
    }
   ],
   "source": [
    "def get_metrics (y_true,y_pred):\n",
    "    acc = accuracy_score(y_true, y_pred)\n",
    "    err = 1-acc\n",
    "    p = precision_score(y_true, y_pred,average=None).mean()\n",
    "    r = recall_score(y_true, y_pred, average=None).mean()\n",
    "    f1 = f1_score(y_true, y_pred, average=None).mean()\n",
    "   \n",
    "    print(\"Accuracy: \",acc)\n",
    "    print(\"Error: \",acc)\n",
    "    print(\"Precision\", p)\n",
    "    print(\"Recall\", r)\n",
    "    print(\"F1\", f1)\n",
    "    #print(\"Accuracy: %.3f \\nError: %.3f \\nPrecesion: %.3f \\nRecall: %.3f \\nF1:%.3f \\n\"% (acc,err,p,r,f1) )\n",
    "    \n",
    "\n",
    "log_reg1 = LogisticRegression(solver='lbfgs', max_iter=5000)\n",
    "log_reg1.fit(X=X_train, y=y_train )\n",
    "y_pred_lr = log_reg1.predict(X_test)\n",
    "get_metrics(y_test, y_pred_lr)"
   ]
  },
  {
   "cell_type": "code",
   "execution_count": 89,
   "id": "6ddfe695",
   "metadata": {
    "scrolled": true
   },
   "outputs": [
    {
     "data": {
      "image/png": "[encoded data removed]",
      "text/plain": [
       "<Figure size 432x288 with 1 Axes>"
      ]
     },
     "metadata": {
      "needs_background": "light"
     },
     "output_type": "display_data"
    }
   ],
   "source": [
    "from sklearn.decomposition import PCA\n",
    "pca = PCA()\n",
    "pca.fit(X_train)\n",
    "var= pca.explained_variance_ratio_\n",
    "var1=np.cumsum(np.round(pca.explained_variance_ratio_, decimals=4)*100)\n",
    "\n",
    "plt.title(\"PCA Variance against num of Componmnets\")\n",
    "plt.ylabel(\"Variance %\")\n",
    "plt.xlabel(\"Number of componments\")\n",
    "l = plt.axhline(94, color=\"red\")\n",
    "\n",
    "plt.plot(var1)\n",
    "plt.grid()"
   ]
  },
  {
   "cell_type": "markdown",
   "id": "0d41d9c7",
   "metadata": {},
   "source": [
    "Principal Component Analysis (PCA) is a linear dimensionality reduction technique that can be utilized for extracting information from a high-dimensional space by projecting it into a lower-dimensional sub-space. It tries to preserve the essential parts that have more variation of the data and remove the non-essential parts with fewer variation\n",
    "Principal component analysis is a fast and flexible unsupervised method for dimensionality reduction in data. Its behavior is easiest to visualize by looking at a two-dimensional dataset. One important thing to note about PCA is that it is an Unsupervised dimensionality reduction technique, you can cluster the similar data points based on the feature correlation between them without any supervision (or labels)"
   ]
  },
  {
   "cell_type": "markdown",
   "id": "5da667e7",
   "metadata": {},
   "source": [
    "One of the oldest and most widely-used techniques to decide which are the most important dimensions of \n",
    "a dataset.Visualizing 2 or 3 dimensional data is not that challenging, You can use PCA to reduce that 4 dimensional data into 2 or 3 dimensions so that you can plot and hopefully understand the data better."
   ]
  },
  {
   "cell_type": "code",
   "execution_count": 90,
   "id": "92bd887d",
   "metadata": {},
   "outputs": [],
   "source": [
    "pca = PCA(n_components=17)\n",
    "X_train=pca.fit_transform(X_train)\n",
    "X_test=pca.fit_transform(X_test)"
   ]
  },
  {
   "cell_type": "markdown",
   "id": "227f7322",
   "metadata": {},
   "source": [
    "PCA (Principal Component Analysis) takes advantage of multicollinearity and combines the highly correlated variables into a set of uncorrelated variables. Therefore, PCA can effectively eliminate multicollinearity between features.When we have a lot of variables, we can reduce them using PCA"
   ]
  },
  {
   "cell_type": "markdown",
   "id": "a5e957b7",
   "metadata": {},
   "source": [
    "#### Logistic Regression Model with PCA"
   ]
  },
  {
   "cell_type": "code",
   "execution_count": 91,
   "id": "151898bc",
   "metadata": {},
   "outputs": [
    {
     "name": "stdout",
     "output_type": "stream",
     "text": [
      "Accuracy:  0.5037334612788589\n",
      "Error:  0.5037334612788589\n",
      "Precision 0.49540771004618683\n",
      "Recall 0.45203820003761774\n",
      "F1 0.45346971177025647\n"
     ]
    }
   ],
   "source": [
    "log_reg = LogisticRegression(solver='lbfgs', max_iter=5000)\n",
    "log_reg.fit(X=X_train, y=y_train )\n",
    "y_pred_lr = log_reg.predict(X_test)\n",
    "get_metrics(y_test, y_pred_lr)"
   ]
  },
  {
   "cell_type": "markdown",
   "id": "28628c0a",
   "metadata": {},
   "source": [
    "One of the weaknesses of PCA is that we won’t know which variables are the top predictors. To know the top predictors we will have to build the Linear Regression model without PCA. As we don’t use PCA, to reduce the number of variables. One of the advantages of PCA is that we don’t need to worry about multicollinearity in the data (highly correlated features).So on the first model, where I don’t use PCA, I have to handle the multicollinearity\n"
   ]
  },
  {
   "cell_type": "markdown",
   "id": "e8c4b609",
   "metadata": {},
   "source": [
    "#### Random Forest:"
   ]
  },
  {
   "cell_type": "markdown",
   "id": "db674920",
   "metadata": {},
   "source": [
    "Random forest is one of the most popular algorithms for regression problems (i.e. predicting continuous outcomes) because of its simplicity and high accuracy. In this guide, we’ll give you a gentle introduction to random forest and the reasons behind its high popularity. It is perhaps the most popular and widely used machine learning algorithm given its good or excellent performance across a wide range of classification and regression predictive modeling problems. It is also easy to use given that it has few key hyperparameters and sensible heuristics for configuring these hyperparameters"
   ]
  },
  {
   "cell_type": "markdown",
   "id": "e4391d33",
   "metadata": {},
   "source": [
    "Random forest is a bagging technique and not a boosting technique. The trees in random forests are run in parallel. There is no interaction between these trees while building the trees.\n",
    "It operates by constructing a multitude of decision trees at training time and outputting the class that is the mode of the classes (classification) or mean prediction (regression) of the individual trees."
   ]
  },
  {
   "cell_type": "code",
   "execution_count": 92,
   "id": "8cd453fd",
   "metadata": {},
   "outputs": [
    {
     "name": "stdout",
     "output_type": "stream",
     "text": [
      "Accuracy:  0.9999796696728444\n",
      "Error:  0.9999796696728444\n",
      "Precision 0.9999816586958835\n",
      "Recall 0.999983594688823\n",
      "F1 0.9999826263562036\n"
     ]
    }
   ],
   "source": [
    "from sklearn.ensemble import RandomForestClassifier\n",
    "rfc = RandomForestClassifier(n_jobs =4)\n",
    "rfc.fit(X_train,y_train)\n",
    "y_pred_rf = rfc.predict(X_test)\n",
    "get_metrics(y_test,y_pred_rf)"
   ]
  },
  {
   "cell_type": "markdown",
   "id": "339efbb9",
   "metadata": {},
   "source": [
    "#### Decision Tree:"
   ]
  },
  {
   "cell_type": "markdown",
   "id": "5571e258",
   "metadata": {},
   "source": [
    "Decision Tree is a decision-making tool that uses a flowchart-like tree structure or is a model of decisions and all of their possible results, including outcomes, input costs, and utility.\n",
    "Decision-tree algorithm falls under the category of supervised learning algorithms. It works for both continuous as well as categorical output variables.\n",
    "    Decision Trees are divided into Classification and Regression Trees. Regression trees are needed when the response variable is numeric or continuous. Classification trees, as the name implies are used to separate the dataset into classes belonging to the response variable. This piece explains a Decision Tree Regression Model practice with Python.\n",
    "\n"
   ]
  },
  {
   "cell_type": "code",
   "execution_count": 93,
   "id": "835b6c09",
   "metadata": {},
   "outputs": [
    {
     "data": {
      "text/plain": [
       "DecisionTreeRegressor()"
      ]
     },
     "execution_count": 93,
     "metadata": {},
     "output_type": "execute_result"
    }
   ],
   "source": [
    "from sklearn.tree import DecisionTreeRegressor\n",
    "dt = DecisionTreeRegressor()\n",
    "dt.fit(X_train, y_train)"
   ]
  },
  {
   "cell_type": "code",
   "execution_count": 48,
   "id": "e3e5eaa6",
   "metadata": {},
   "outputs": [
    {
     "name": "stdout",
     "output_type": "stream",
     "text": [
      "Decision Tree Regressor accuracy on train:  100.0\n",
      "Decision Tree Regressor accuracy on test:  100.0\n"
     ]
    }
   ],
   "source": [
    "# predict on the train and the test\n",
    "preds = dt.predict(X_train)\n",
    "print('Decision Tree Regressor accuracy on train: ', accuracy_score(y_train,preds)*100)\n",
    "preds = dt.predict(X_test)\n",
    "print('Decision Tree Regressor accuracy on test: ', accuracy_score(y_test,preds)*100)\n",
    "preds = 0"
   ]
  },
  {
   "cell_type": "markdown",
   "id": "8d141662",
   "metadata": {},
   "source": [
    "#### Cross validation"
   ]
  },
  {
   "cell_type": "markdown",
   "id": "b3c416d3",
   "metadata": {},
   "source": [
    "Even though the aforementioned models appear to perform well, the metrics used to calculate them do not reflect the true score because the models were trained on a subset of the dataset. Using cross validation, we were able to obtain k=10 folds, or in other words, 10 separate samples. As a result, we will have ten separate metrics values. The average of these indicators will provide a more accurate picture of our model's performance."
   ]
  },
  {
   "cell_type": "code",
   "execution_count": 98,
   "id": "1e14a512",
   "metadata": {},
   "outputs": [
    {
     "name": "stderr",
     "output_type": "stream",
     "text": [
      "/Users/pushpanb/anaconda3/lib/python3.8/site-packages/joblib/externals/loky/process_executor.py:688: UserWarning: A worker stopped while some jobs were given to the executor. This can be caused by a too short worker timeout or by a memory leak.\n",
      "  warnings.warn(\n"
     ]
    },
    {
     "data": {
      "text/html": [
       "<div>\n",
       "<style scoped>\n",
       "    .dataframe tbody tr th:only-of-type {\n",
       "        vertical-align: middle;\n",
       "    }\n",
       "\n",
       "    .dataframe tbody tr th {\n",
       "        vertical-align: top;\n",
       "    }\n",
       "\n",
       "    .dataframe thead th {\n",
       "        text-align: right;\n",
       "    }\n",
       "</style>\n",
       "<table border=\"1\" class=\"dataframe\">\n",
       "  <thead>\n",
       "    <tr style=\"text-align: right;\">\n",
       "      <th></th>\n",
       "      <th>Claasifier</th>\n",
       "      <th>Accurancy</th>\n",
       "      <th>MSE</th>\n",
       "      <th>F1</th>\n",
       "    </tr>\n",
       "  </thead>\n",
       "  <tbody>\n",
       "    <tr>\n",
       "      <th>0</th>\n",
       "      <td>LogisticRegression</td>\n",
       "      <td>0.503802</td>\n",
       "      <td>6.453249</td>\n",
       "      <td>0.453281</td>\n",
       "    </tr>\n",
       "    <tr>\n",
       "      <th>1</th>\n",
       "      <td>RandomForestClassifier</td>\n",
       "      <td>0.984418</td>\n",
       "      <td>0.961468</td>\n",
       "      <td>0.983012</td>\n",
       "    </tr>\n",
       "  </tbody>\n",
       "</table>\n",
       "</div>"
      ],
      "text/plain": [
       "               Claasifier  Accurancy       MSE        F1\n",
       "0      LogisticRegression   0.503802  6.453249  0.453281\n",
       "1  RandomForestClassifier   0.984418  0.961468  0.983012"
      ]
     },
     "metadata": {},
     "output_type": "display_data"
    }
   ],
   "source": [
    "from sklearn.model_selection import cross_val_score\n",
    "from sklearn.model_selection import cross_val_predict\n",
    "\n",
    "classifiers = [LogisticRegression(solver='lbfgs', max_iter=5000),\n",
    "               RandomForestClassifier(n_jobs =4)]\n",
    "\n",
    "score_lst = []\n",
    "for cls in classifiers:\n",
    "    accs  = accuracy_score(y_train, cross_val_predict(cls,X_train,y_train,cv = 10))  #cross validate the accurancy \n",
    "    scores = cross_val_score(cls,X_train,y_train,scoring = \"neg_mean_squared_error\",cv= 10)#calcuate the error\n",
    "    score = np.sqrt(-scores)\n",
    "    f1 = cross_val_score(cls,X_test, y_test,scoring = \"f1_macro\", cv =10)\n",
    "    \n",
    "    \n",
    "    #p = cross_val_score(cls,X_test, y_test,scoring = \"average_precision\", cv =10)\n",
    "#     r = recall_score(y_true, y_pred, average=None).mean()\n",
    "#     f1 = f1_score(y_true, y_pred, average=None).mean()\n",
    "    score_lst.append([cls.__class__.__name__,accs,score.mean(), f1.mean()])\n",
    "\n",
    "df_scores=pd.DataFrame(columns = [\"Claasifier\",\"Accurancy\",\"MSE\",\"F1\"],data =  score_lst)\n",
    "display(df_scores)"
   ]
  },
  {
   "cell_type": "markdown",
   "id": "ea5083de",
   "metadata": {},
   "source": [
    "As computing the results of the above cells took a long time, it is uploaded without the outputs but with the work and should be run by the examiner because the machine I am using has limited processing power."
   ]
  },
  {
   "cell_type": "markdown",
   "id": "bb5c73e9",
   "metadata": {},
   "source": [
    "Simple partitioning approach based on the idea of centroids\n",
    "of group of elements.The centroid (middle) of any \n",
    "group of points in a \n",
    "Euclidean space can be \n",
    "found by taking the mean \n",
    "on every dimension."
   ]
  },
  {
   "cell_type": "code",
   "execution_count": 42,
   "id": "e12d8999",
   "metadata": {},
   "outputs": [
    {
     "data": {
      "text/plain": [
       "<matplotlib.collections.PathCollection at 0x7fbd901c3850>"
      ]
     },
     "execution_count": 42,
     "metadata": {},
     "output_type": "execute_result"
    },
    {
     "data": {
      "image/png": "[encoded data removed]",
      "text/plain": [
       "<Figure size 432x288 with 1 Axes>"
      ]
     },
     "metadata": {
      "needs_background": "light"
     },
     "output_type": "display_data"
    }
   ],
   "source": [
    "from sklearn import cluster\n",
    "from collections import defaultdict\n",
    "\n",
    "K=3 # specify number of clusters\n",
    "\n",
    "cl_K3=cluster.KMeans(init='random',n_clusters=K)\n",
    "cl_K3.fit(data)  \n",
    "\n",
    "cl_K3.predict(data)\n",
    "\n",
    "#In order to plot the clusters we need the co-ordinates of the points to be put in appropriate lists. One way is:\n",
    "\n",
    "def divide(data,labels):\n",
    "    xclusters=defaultdict(list)\n",
    "    yclusters=defaultdict(list)\n",
    "    for datapoint,label in zip(data,labels):\n",
    "        x=datapoint[0]\n",
    "        y=datapoint[1]\n",
    "        xclusters[label].append(x)\n",
    "        yclusters[label].append(y)\n",
    "    return xclusters,yclusters    \n",
    "\n",
    "\n",
    "clusters=divide(data,cl_K3.predict(data)) # apply the function that makes the data point lists to the predicted clusters\n",
    "\n",
    "#plot a 2d scatter plots of the generated clusters - remember the data is 3d! (plot 3d if you want...)\n",
    "plt.scatter(clusters[0][0],clusters[1][0])\n",
    "plt.scatter(clusters[0][1],clusters[1][1])\n",
    "plt.scatter(clusters[0][2],clusters[1][2])"
   ]
  },
  {
   "cell_type": "markdown",
   "id": "3620aa36",
   "metadata": {},
   "source": [
    "The k-means clustering method is an unsupervised machine learning technique used to identify clusters of data objects in a dataset. There are many different types of clustering methods, but k-means is one of the oldest and most approachable. These traits make implementing k-means clustering in Python reasonably straightforward, even for novice programmers and data scientists.The first step is to randomly select k centroids, where k is equal to the number of clusters you choose. Centroids are data points representing the center of a cluster.\n",
    "The main element of the algorithm works by a two-step process called expectation-maximization. The expectation step assigns each data point to its nearest centroid. Then, the maximization step computes the mean of all the points for each cluster and sets the new centroid. \n",
    "\n"
   ]
  },
  {
   "cell_type": "markdown",
   "id": "af974097",
   "metadata": {},
   "source": [
    "### Conclusion"
   ]
  },
  {
   "cell_type": "markdown",
   "id": "7f6c7b30",
   "metadata": {},
   "source": [
    "In this model, I'd like to conclude that a few activities, such as walking and running, as well as a few others, have similar samples collected and similar mean values. Few people are highly into fitness and perform all of the keep fit routines like rope jumping and so on, and there are a few examples where people merely do housework.When compared to intense exercise such as rope jumping, running, mounting stairs, etc., our heart rate will increase in accordance with our daily exercise routine, and high intensity exercise has low body temperature, according to the analysis.We estimated the correctness of future data using test and train data and several algorithms. There are certain disadvantages, such as those exercises that do not require hand movement but are nonetheless beneficial to one's health, such as yoga and Pilates. As a result, we must figure out how to account for them.We classified groups of comparable types using the k-means technique."
   ]
  },
  {
   "cell_type": "code",
   "execution_count": null,
   "id": "4e8e6c41",
   "metadata": {},
   "outputs": [],
   "source": []
  }
 ],
 "metadata": {
  "kernelspec": {
   "display_name": "Python 3",
   "language": "python",
   "name": "python3"
  },
  "language_info": {
   "codemirror_mode": {
    "name": "ipython",
    "version": 3
   },
   "file_extension": ".py",
   "mimetype": "text/x-python",
   "name": "python",
   "nbconvert_exporter": "python",
   "pygments_lexer": "ipython3",
   "version": "3.8.8"
  }
 },
 "nbformat": 4,
 "nbformat_minor": 5
}
